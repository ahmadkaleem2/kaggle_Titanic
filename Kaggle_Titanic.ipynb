{
  "nbformat": 4,
  "nbformat_minor": 0,
  "metadata": {
    "colab": {
      "name": "Kaggle_Titanic.ipynb",
      "provenance": [],
      "collapsed_sections": [],
      "mount_file_id": "1VDngMFt90LtLoINqrupHS8PO2AmqlY0A",
      "authorship_tag": "ABX9TyNvvPxGmnz3wbx3+1MKtsCN",
      "include_colab_link": true
    },
    "kernelspec": {
      "name": "python3",
      "display_name": "Python 3"
    },
    "language_info": {
      "name": "python"
    }
  },
  "cells": [
    {
      "cell_type": "markdown",
      "metadata": {
        "id": "view-in-github",
        "colab_type": "text"
      },
      "source": [
        "<a href=\"https://colab.research.google.com/github/ahmadkaleem2/kaggle_Titanic/blob/main/Kaggle_Titanic.ipynb\" target=\"_parent\"><img src=\"https://colab.research.google.com/assets/colab-badge.svg\" alt=\"Open In Colab\"/></a>"
      ]
    },
    {
      "cell_type": "markdown",
      "metadata": {
        "id": "PJuz-4As23RZ"
      },
      "source": [
        "# Model for predicting whether a person will survive or not"
      ]
    },
    {
      "cell_type": "code",
      "metadata": {
        "id": "9PwhqE6cF8NU"
      },
      "source": [
        "import tensorflow as tf\n",
        "import numpy as np\n",
        "import pandas as pd\n",
        "import matplotlib.pyplot as plt\n",
        "import os\n",
        "import math\n",
        "import zipfile\n",
        "import seaborn as sns"
      ],
      "execution_count": null,
      "outputs": []
    },
    {
      "cell_type": "code",
      "metadata": {
        "id": "xc2abhy69tiw"
      },
      "source": [
        "data = pd.read_csv('/content/drive/MyDrive/Colab Notebooks/Titanic/train.csv')\n",
        "test_prediction = pd.read_csv('/content/drive/MyDrive/Colab Notebooks/Titanic/test.csv')"
      ],
      "execution_count": null,
      "outputs": []
    },
    {
      "cell_type": "code",
      "metadata": {
        "colab": {
          "base_uri": "https://localhost:8080/",
          "height": 294
        },
        "id": "vBGOpj_kUC4r",
        "outputId": "c4dedd98-bda9-496e-928a-13b51387003f"
      },
      "source": [
        "data.describe()"
      ],
      "execution_count": null,
      "outputs": [
        {
          "output_type": "execute_result",
          "data": {
            "text/html": [
              "<div>\n",
              "<style scoped>\n",
              "    .dataframe tbody tr th:only-of-type {\n",
              "        vertical-align: middle;\n",
              "    }\n",
              "\n",
              "    .dataframe tbody tr th {\n",
              "        vertical-align: top;\n",
              "    }\n",
              "\n",
              "    .dataframe thead th {\n",
              "        text-align: right;\n",
              "    }\n",
              "</style>\n",
              "<table border=\"1\" class=\"dataframe\">\n",
              "  <thead>\n",
              "    <tr style=\"text-align: right;\">\n",
              "      <th></th>\n",
              "      <th>PassengerId</th>\n",
              "      <th>Survived</th>\n",
              "      <th>Pclass</th>\n",
              "      <th>Age</th>\n",
              "      <th>SibSp</th>\n",
              "      <th>Parch</th>\n",
              "      <th>Fare</th>\n",
              "    </tr>\n",
              "  </thead>\n",
              "  <tbody>\n",
              "    <tr>\n",
              "      <th>count</th>\n",
              "      <td>891.000000</td>\n",
              "      <td>891.000000</td>\n",
              "      <td>891.000000</td>\n",
              "      <td>714.000000</td>\n",
              "      <td>891.000000</td>\n",
              "      <td>891.000000</td>\n",
              "      <td>891.000000</td>\n",
              "    </tr>\n",
              "    <tr>\n",
              "      <th>mean</th>\n",
              "      <td>446.000000</td>\n",
              "      <td>0.383838</td>\n",
              "      <td>2.308642</td>\n",
              "      <td>29.699118</td>\n",
              "      <td>0.523008</td>\n",
              "      <td>0.381594</td>\n",
              "      <td>32.204208</td>\n",
              "    </tr>\n",
              "    <tr>\n",
              "      <th>std</th>\n",
              "      <td>257.353842</td>\n",
              "      <td>0.486592</td>\n",
              "      <td>0.836071</td>\n",
              "      <td>14.526497</td>\n",
              "      <td>1.102743</td>\n",
              "      <td>0.806057</td>\n",
              "      <td>49.693429</td>\n",
              "    </tr>\n",
              "    <tr>\n",
              "      <th>min</th>\n",
              "      <td>1.000000</td>\n",
              "      <td>0.000000</td>\n",
              "      <td>1.000000</td>\n",
              "      <td>0.420000</td>\n",
              "      <td>0.000000</td>\n",
              "      <td>0.000000</td>\n",
              "      <td>0.000000</td>\n",
              "    </tr>\n",
              "    <tr>\n",
              "      <th>25%</th>\n",
              "      <td>223.500000</td>\n",
              "      <td>0.000000</td>\n",
              "      <td>2.000000</td>\n",
              "      <td>20.125000</td>\n",
              "      <td>0.000000</td>\n",
              "      <td>0.000000</td>\n",
              "      <td>7.910400</td>\n",
              "    </tr>\n",
              "    <tr>\n",
              "      <th>50%</th>\n",
              "      <td>446.000000</td>\n",
              "      <td>0.000000</td>\n",
              "      <td>3.000000</td>\n",
              "      <td>28.000000</td>\n",
              "      <td>0.000000</td>\n",
              "      <td>0.000000</td>\n",
              "      <td>14.454200</td>\n",
              "    </tr>\n",
              "    <tr>\n",
              "      <th>75%</th>\n",
              "      <td>668.500000</td>\n",
              "      <td>1.000000</td>\n",
              "      <td>3.000000</td>\n",
              "      <td>38.000000</td>\n",
              "      <td>1.000000</td>\n",
              "      <td>0.000000</td>\n",
              "      <td>31.000000</td>\n",
              "    </tr>\n",
              "    <tr>\n",
              "      <th>max</th>\n",
              "      <td>891.000000</td>\n",
              "      <td>1.000000</td>\n",
              "      <td>3.000000</td>\n",
              "      <td>80.000000</td>\n",
              "      <td>8.000000</td>\n",
              "      <td>6.000000</td>\n",
              "      <td>512.329200</td>\n",
              "    </tr>\n",
              "  </tbody>\n",
              "</table>\n",
              "</div>"
            ],
            "text/plain": [
              "       PassengerId    Survived      Pclass  ...       SibSp       Parch        Fare\n",
              "count   891.000000  891.000000  891.000000  ...  891.000000  891.000000  891.000000\n",
              "mean    446.000000    0.383838    2.308642  ...    0.523008    0.381594   32.204208\n",
              "std     257.353842    0.486592    0.836071  ...    1.102743    0.806057   49.693429\n",
              "min       1.000000    0.000000    1.000000  ...    0.000000    0.000000    0.000000\n",
              "25%     223.500000    0.000000    2.000000  ...    0.000000    0.000000    7.910400\n",
              "50%     446.000000    0.000000    3.000000  ...    0.000000    0.000000   14.454200\n",
              "75%     668.500000    1.000000    3.000000  ...    1.000000    0.000000   31.000000\n",
              "max     891.000000    1.000000    3.000000  ...    8.000000    6.000000  512.329200\n",
              "\n",
              "[8 rows x 7 columns]"
            ]
          },
          "metadata": {
            "tags": []
          },
          "execution_count": 55
        }
      ]
    },
    {
      "cell_type": "code",
      "metadata": {
        "colab": {
          "base_uri": "https://localhost:8080/"
        },
        "id": "2fmKQJVkUGcH",
        "outputId": "1780e216-81f1-4c4f-ac57-a0565bc19fd1"
      },
      "source": [
        "data.info()"
      ],
      "execution_count": null,
      "outputs": [
        {
          "output_type": "stream",
          "text": [
            "<class 'pandas.core.frame.DataFrame'>\n",
            "RangeIndex: 891 entries, 0 to 890\n",
            "Data columns (total 12 columns):\n",
            " #   Column       Non-Null Count  Dtype  \n",
            "---  ------       --------------  -----  \n",
            " 0   PassengerId  891 non-null    int64  \n",
            " 1   Survived     891 non-null    int64  \n",
            " 2   Pclass       891 non-null    int64  \n",
            " 3   Name         891 non-null    object \n",
            " 4   Sex          891 non-null    object \n",
            " 5   Age          714 non-null    float64\n",
            " 6   SibSp        891 non-null    int64  \n",
            " 7   Parch        891 non-null    int64  \n",
            " 8   Ticket       891 non-null    object \n",
            " 9   Fare         891 non-null    float64\n",
            " 10  Cabin        204 non-null    object \n",
            " 11  Embarked     889 non-null    object \n",
            "dtypes: float64(2), int64(5), object(5)\n",
            "memory usage: 83.7+ KB\n"
          ],
          "name": "stdout"
        }
      ]
    },
    {
      "cell_type": "markdown",
      "metadata": {
        "id": "SXcjmeut3Ouf"
      },
      "source": [
        "# Creating training data and labels and dropping irrelevent information\n",
        "\n",
        "* Name is irrelevent to the probability of survival of a passenger but their gender is vital \n",
        "* PassengerId is also irrelevent to the survivability of any passenger\n",
        "* Ticket is also irrelevent\n",
        "* Cabin could be important but has too much missing data perhaps some passengers didn't have a cabin so we could change NaN to 0's"
      ]
    },
    {
      "cell_type": "code",
      "metadata": {
        "id": "UmiTID4mQGOM"
      },
      "source": [
        "survived = data['Survived']"
      ],
      "execution_count": null,
      "outputs": []
    },
    {
      "cell_type": "code",
      "metadata": {
        "colab": {
          "base_uri": "https://localhost:8080/",
          "height": 282
        },
        "id": "Xo5P0SPqQJNr",
        "outputId": "32e83ba7-3686-49f3-f3f3-9f729d422cfd"
      },
      "source": [
        "survived.hist(bins=2,)"
      ],
      "execution_count": null,
      "outputs": [
        {
          "output_type": "execute_result",
          "data": {
            "text/plain": [
              "<matplotlib.axes._subplots.AxesSubplot at 0x7fd9ac875fd0>"
            ]
          },
          "metadata": {
            "tags": []
          },
          "execution_count": 58
        },
        {
          "output_type": "display_data",
          "data": {
            "image/png": "[encoded data removed]",
            "text/plain": [
              "<Figure size 432x288 with 1 Axes>"
            ]
          },
          "metadata": {
            "tags": [],
            "needs_background": "light"
          }
        }
      ]
    },
    {
      "cell_type": "code",
      "metadata": {
        "colab": {
          "base_uri": "https://localhost:8080/",
          "height": 456
        },
        "id": "Wun0BNMQXX5p",
        "outputId": "1f47ddbc-dc4e-4e07-df03-999e4e83363d"
      },
      "source": [
        "sns.catplot('Survived',data=data,kind='count')"
      ],
      "execution_count": null,
      "outputs": [
        {
          "output_type": "stream",
          "text": [
            "/usr/local/lib/python3.7/dist-packages/seaborn/_decorators.py:43: FutureWarning: Pass the following variable as a keyword arg: x. From version 0.12, the only valid positional argument will be `data`, and passing other arguments without an explicit keyword will result in an error or misinterpretation.\n",
            "  FutureWarning\n"
          ],
          "name": "stderr"
        },
        {
          "output_type": "execute_result",
          "data": {
            "text/plain": [
              "<seaborn.axisgrid.FacetGrid at 0x7fd9ac832c10>"
            ]
          },
          "metadata": {
            "tags": []
          },
          "execution_count": 59
        },
        {
          "output_type": "display_data",
          "data": {
            "image/png": "[encoded data removed]",
            "text/plain": [
              "<Figure size 360x360 with 1 Axes>"
            ]
          },
          "metadata": {
            "tags": [],
            "needs_background": "light"
          }
        }
      ]
    },
    {
      "cell_type": "code",
      "metadata": {
        "colab": {
          "base_uri": "https://localhost:8080/",
          "height": 456
        },
        "id": "AVscIstaQt3M",
        "outputId": "da8e5166-6aa5-4be4-9a4f-036ebb626524"
      },
      "source": [
        "sns.catplot('Sex',data=data,kind='count')"
      ],
      "execution_count": null,
      "outputs": [
        {
          "output_type": "stream",
          "text": [
            "/usr/local/lib/python3.7/dist-packages/seaborn/_decorators.py:43: FutureWarning: Pass the following variable as a keyword arg: x. From version 0.12, the only valid positional argument will be `data`, and passing other arguments without an explicit keyword will result in an error or misinterpretation.\n",
            "  FutureWarning\n"
          ],
          "name": "stderr"
        },
        {
          "output_type": "execute_result",
          "data": {
            "text/plain": [
              "<seaborn.axisgrid.FacetGrid at 0x7fd9ac7bee90>"
            ]
          },
          "metadata": {
            "tags": []
          },
          "execution_count": 60
        },
        {
          "output_type": "display_data",
          "data": {
            "image/png": "[encoded data removed]",
            "text/plain": [
              "<Figure size 360x360 with 1 Axes>"
            ]
          },
          "metadata": {
            "tags": [],
            "needs_background": "light"
          }
        }
      ]
    },
    {
      "cell_type": "code",
      "metadata": {
        "colab": {
          "base_uri": "https://localhost:8080/",
          "height": 456
        },
        "id": "oPNBcwz5XlUn",
        "outputId": "993b5c14-6c9f-4837-e546-d363cb155ae8"
      },
      "source": [
        "sns.catplot('Pclass',data=data,kind='count')"
      ],
      "execution_count": null,
      "outputs": [
        {
          "output_type": "stream",
          "text": [
            "/usr/local/lib/python3.7/dist-packages/seaborn/_decorators.py:43: FutureWarning: Pass the following variable as a keyword arg: x. From version 0.12, the only valid positional argument will be `data`, and passing other arguments without an explicit keyword will result in an error or misinterpretation.\n",
            "  FutureWarning\n"
          ],
          "name": "stderr"
        },
        {
          "output_type": "execute_result",
          "data": {
            "text/plain": [
              "<seaborn.axisgrid.FacetGrid at 0x7fd9ac8dcdd0>"
            ]
          },
          "metadata": {
            "tags": []
          },
          "execution_count": 61
        },
        {
          "output_type": "display_data",
          "data": {
            "image/png": "[encoded data removed]",
            "text/plain": [
              "<Figure size 360x360 with 1 Axes>"
            ]
          },
          "metadata": {
            "tags": [],
            "needs_background": "light"
          }
        }
      ]
    },
    {
      "cell_type": "code",
      "metadata": {
        "colab": {
          "base_uri": "https://localhost:8080/",
          "height": 456
        },
        "id": "dpwAi7O8YOcb",
        "outputId": "88a02fc7-2bfc-40b9-8f1b-e7d7a01deee4"
      },
      "source": [
        "sns.catplot('Pclass',data=data,hue='Sex',kind='count')"
      ],
      "execution_count": null,
      "outputs": [
        {
          "output_type": "stream",
          "text": [
            "/usr/local/lib/python3.7/dist-packages/seaborn/_decorators.py:43: FutureWarning: Pass the following variable as a keyword arg: x. From version 0.12, the only valid positional argument will be `data`, and passing other arguments without an explicit keyword will result in an error or misinterpretation.\n",
            "  FutureWarning\n"
          ],
          "name": "stderr"
        },
        {
          "output_type": "execute_result",
          "data": {
            "text/plain": [
              "<seaborn.axisgrid.FacetGrid at 0x7fd9ac6bd990>"
            ]
          },
          "metadata": {
            "tags": []
          },
          "execution_count": 62
        },
        {
          "output_type": "display_data",
          "data": {
            "image/png": "[encoded data removed]",
            "text/plain": [
              "<Figure size 430.5x360 with 1 Axes>"
            ]
          },
          "metadata": {
            "tags": [],
            "needs_background": "light"
          }
        }
      ]
    },
    {
      "cell_type": "code",
      "metadata": {
        "id": "1qjaIQ3lJo4q"
      },
      "source": [
        "train_labels = data['Survived']\n",
        "train_data = data.drop(['Name','Cabin','Ticket','Survived','PassengerId'],axis=1)"
      ],
      "execution_count": null,
      "outputs": []
    },
    {
      "cell_type": "markdown",
      "metadata": {
        "id": "nZtSb9N14JI4"
      },
      "source": [
        "# Some values of age are also NaN so changing them to the mean to prevent gradient explosion and gradient vanishing"
      ]
    },
    {
      "cell_type": "code",
      "metadata": {
        "colab": {
          "base_uri": "https://localhost:8080/",
          "height": 815
        },
        "id": "RiOk-ClssXoU",
        "outputId": "5fba730e-6847-4e48-bc96-1737f5000dc1"
      },
      "source": [
        "train_data[:25]"
      ],
      "execution_count": null,
      "outputs": [
        {
          "output_type": "execute_result",
          "data": {
            "text/html": [
              "<div>\n",
              "<style scoped>\n",
              "    .dataframe tbody tr th:only-of-type {\n",
              "        vertical-align: middle;\n",
              "    }\n",
              "\n",
              "    .dataframe tbody tr th {\n",
              "        vertical-align: top;\n",
              "    }\n",
              "\n",
              "    .dataframe thead th {\n",
              "        text-align: right;\n",
              "    }\n",
              "</style>\n",
              "<table border=\"1\" class=\"dataframe\">\n",
              "  <thead>\n",
              "    <tr style=\"text-align: right;\">\n",
              "      <th></th>\n",
              "      <th>Pclass</th>\n",
              "      <th>Sex</th>\n",
              "      <th>Age</th>\n",
              "      <th>SibSp</th>\n",
              "      <th>Parch</th>\n",
              "      <th>Fare</th>\n",
              "      <th>Embarked</th>\n",
              "    </tr>\n",
              "  </thead>\n",
              "  <tbody>\n",
              "    <tr>\n",
              "      <th>0</th>\n",
              "      <td>3</td>\n",
              "      <td>male</td>\n",
              "      <td>22.0</td>\n",
              "      <td>1</td>\n",
              "      <td>0</td>\n",
              "      <td>7.2500</td>\n",
              "      <td>S</td>\n",
              "    </tr>\n",
              "    <tr>\n",
              "      <th>1</th>\n",
              "      <td>1</td>\n",
              "      <td>female</td>\n",
              "      <td>38.0</td>\n",
              "      <td>1</td>\n",
              "      <td>0</td>\n",
              "      <td>71.2833</td>\n",
              "      <td>C</td>\n",
              "    </tr>\n",
              "    <tr>\n",
              "      <th>2</th>\n",
              "      <td>3</td>\n",
              "      <td>female</td>\n",
              "      <td>26.0</td>\n",
              "      <td>0</td>\n",
              "      <td>0</td>\n",
              "      <td>7.9250</td>\n",
              "      <td>S</td>\n",
              "    </tr>\n",
              "    <tr>\n",
              "      <th>3</th>\n",
              "      <td>1</td>\n",
              "      <td>female</td>\n",
              "      <td>35.0</td>\n",
              "      <td>1</td>\n",
              "      <td>0</td>\n",
              "      <td>53.1000</td>\n",
              "      <td>S</td>\n",
              "    </tr>\n",
              "    <tr>\n",
              "      <th>4</th>\n",
              "      <td>3</td>\n",
              "      <td>male</td>\n",
              "      <td>35.0</td>\n",
              "      <td>0</td>\n",
              "      <td>0</td>\n",
              "      <td>8.0500</td>\n",
              "      <td>S</td>\n",
              "    </tr>\n",
              "    <tr>\n",
              "      <th>5</th>\n",
              "      <td>3</td>\n",
              "      <td>male</td>\n",
              "      <td>NaN</td>\n",
              "      <td>0</td>\n",
              "      <td>0</td>\n",
              "      <td>8.4583</td>\n",
              "      <td>Q</td>\n",
              "    </tr>\n",
              "    <tr>\n",
              "      <th>6</th>\n",
              "      <td>1</td>\n",
              "      <td>male</td>\n",
              "      <td>54.0</td>\n",
              "      <td>0</td>\n",
              "      <td>0</td>\n",
              "      <td>51.8625</td>\n",
              "      <td>S</td>\n",
              "    </tr>\n",
              "    <tr>\n",
              "      <th>7</th>\n",
              "      <td>3</td>\n",
              "      <td>male</td>\n",
              "      <td>2.0</td>\n",
              "      <td>3</td>\n",
              "      <td>1</td>\n",
              "      <td>21.0750</td>\n",
              "      <td>S</td>\n",
              "    </tr>\n",
              "    <tr>\n",
              "      <th>8</th>\n",
              "      <td>3</td>\n",
              "      <td>female</td>\n",
              "      <td>27.0</td>\n",
              "      <td>0</td>\n",
              "      <td>2</td>\n",
              "      <td>11.1333</td>\n",
              "      <td>S</td>\n",
              "    </tr>\n",
              "    <tr>\n",
              "      <th>9</th>\n",
              "      <td>2</td>\n",
              "      <td>female</td>\n",
              "      <td>14.0</td>\n",
              "      <td>1</td>\n",
              "      <td>0</td>\n",
              "      <td>30.0708</td>\n",
              "      <td>C</td>\n",
              "    </tr>\n",
              "    <tr>\n",
              "      <th>10</th>\n",
              "      <td>3</td>\n",
              "      <td>female</td>\n",
              "      <td>4.0</td>\n",
              "      <td>1</td>\n",
              "      <td>1</td>\n",
              "      <td>16.7000</td>\n",
              "      <td>S</td>\n",
              "    </tr>\n",
              "    <tr>\n",
              "      <th>11</th>\n",
              "      <td>1</td>\n",
              "      <td>female</td>\n",
              "      <td>58.0</td>\n",
              "      <td>0</td>\n",
              "      <td>0</td>\n",
              "      <td>26.5500</td>\n",
              "      <td>S</td>\n",
              "    </tr>\n",
              "    <tr>\n",
              "      <th>12</th>\n",
              "      <td>3</td>\n",
              "      <td>male</td>\n",
              "      <td>20.0</td>\n",
              "      <td>0</td>\n",
              "      <td>0</td>\n",
              "      <td>8.0500</td>\n",
              "      <td>S</td>\n",
              "    </tr>\n",
              "    <tr>\n",
              "      <th>13</th>\n",
              "      <td>3</td>\n",
              "      <td>male</td>\n",
              "      <td>39.0</td>\n",
              "      <td>1</td>\n",
              "      <td>5</td>\n",
              "      <td>31.2750</td>\n",
              "      <td>S</td>\n",
              "    </tr>\n",
              "    <tr>\n",
              "      <th>14</th>\n",
              "      <td>3</td>\n",
              "      <td>female</td>\n",
              "      <td>14.0</td>\n",
              "      <td>0</td>\n",
              "      <td>0</td>\n",
              "      <td>7.8542</td>\n",
              "      <td>S</td>\n",
              "    </tr>\n",
              "    <tr>\n",
              "      <th>15</th>\n",
              "      <td>2</td>\n",
              "      <td>female</td>\n",
              "      <td>55.0</td>\n",
              "      <td>0</td>\n",
              "      <td>0</td>\n",
              "      <td>16.0000</td>\n",
              "      <td>S</td>\n",
              "    </tr>\n",
              "    <tr>\n",
              "      <th>16</th>\n",
              "      <td>3</td>\n",
              "      <td>male</td>\n",
              "      <td>2.0</td>\n",
              "      <td>4</td>\n",
              "      <td>1</td>\n",
              "      <td>29.1250</td>\n",
              "      <td>Q</td>\n",
              "    </tr>\n",
              "    <tr>\n",
              "      <th>17</th>\n",
              "      <td>2</td>\n",
              "      <td>male</td>\n",
              "      <td>NaN</td>\n",
              "      <td>0</td>\n",
              "      <td>0</td>\n",
              "      <td>13.0000</td>\n",
              "      <td>S</td>\n",
              "    </tr>\n",
              "    <tr>\n",
              "      <th>18</th>\n",
              "      <td>3</td>\n",
              "      <td>female</td>\n",
              "      <td>31.0</td>\n",
              "      <td>1</td>\n",
              "      <td>0</td>\n",
              "      <td>18.0000</td>\n",
              "      <td>S</td>\n",
              "    </tr>\n",
              "    <tr>\n",
              "      <th>19</th>\n",
              "      <td>3</td>\n",
              "      <td>female</td>\n",
              "      <td>NaN</td>\n",
              "      <td>0</td>\n",
              "      <td>0</td>\n",
              "      <td>7.2250</td>\n",
              "      <td>C</td>\n",
              "    </tr>\n",
              "    <tr>\n",
              "      <th>20</th>\n",
              "      <td>2</td>\n",
              "      <td>male</td>\n",
              "      <td>35.0</td>\n",
              "      <td>0</td>\n",
              "      <td>0</td>\n",
              "      <td>26.0000</td>\n",
              "      <td>S</td>\n",
              "    </tr>\n",
              "    <tr>\n",
              "      <th>21</th>\n",
              "      <td>2</td>\n",
              "      <td>male</td>\n",
              "      <td>34.0</td>\n",
              "      <td>0</td>\n",
              "      <td>0</td>\n",
              "      <td>13.0000</td>\n",
              "      <td>S</td>\n",
              "    </tr>\n",
              "    <tr>\n",
              "      <th>22</th>\n",
              "      <td>3</td>\n",
              "      <td>female</td>\n",
              "      <td>15.0</td>\n",
              "      <td>0</td>\n",
              "      <td>0</td>\n",
              "      <td>8.0292</td>\n",
              "      <td>Q</td>\n",
              "    </tr>\n",
              "    <tr>\n",
              "      <th>23</th>\n",
              "      <td>1</td>\n",
              "      <td>male</td>\n",
              "      <td>28.0</td>\n",
              "      <td>0</td>\n",
              "      <td>0</td>\n",
              "      <td>35.5000</td>\n",
              "      <td>S</td>\n",
              "    </tr>\n",
              "    <tr>\n",
              "      <th>24</th>\n",
              "      <td>3</td>\n",
              "      <td>female</td>\n",
              "      <td>8.0</td>\n",
              "      <td>3</td>\n",
              "      <td>1</td>\n",
              "      <td>21.0750</td>\n",
              "      <td>S</td>\n",
              "    </tr>\n",
              "  </tbody>\n",
              "</table>\n",
              "</div>"
            ],
            "text/plain": [
              "    Pclass     Sex   Age  SibSp  Parch     Fare Embarked\n",
              "0        3    male  22.0      1      0   7.2500        S\n",
              "1        1  female  38.0      1      0  71.2833        C\n",
              "2        3  female  26.0      0      0   7.9250        S\n",
              "3        1  female  35.0      1      0  53.1000        S\n",
              "4        3    male  35.0      0      0   8.0500        S\n",
              "5        3    male   NaN      0      0   8.4583        Q\n",
              "6        1    male  54.0      0      0  51.8625        S\n",
              "7        3    male   2.0      3      1  21.0750        S\n",
              "8        3  female  27.0      0      2  11.1333        S\n",
              "9        2  female  14.0      1      0  30.0708        C\n",
              "10       3  female   4.0      1      1  16.7000        S\n",
              "11       1  female  58.0      0      0  26.5500        S\n",
              "12       3    male  20.0      0      0   8.0500        S\n",
              "13       3    male  39.0      1      5  31.2750        S\n",
              "14       3  female  14.0      0      0   7.8542        S\n",
              "15       2  female  55.0      0      0  16.0000        S\n",
              "16       3    male   2.0      4      1  29.1250        Q\n",
              "17       2    male   NaN      0      0  13.0000        S\n",
              "18       3  female  31.0      1      0  18.0000        S\n",
              "19       3  female   NaN      0      0   7.2250        C\n",
              "20       2    male  35.0      0      0  26.0000        S\n",
              "21       2    male  34.0      0      0  13.0000        S\n",
              "22       3  female  15.0      0      0   8.0292        Q\n",
              "23       1    male  28.0      0      0  35.5000        S\n",
              "24       3  female   8.0      3      1  21.0750        S"
            ]
          },
          "metadata": {
            "tags": []
          },
          "execution_count": 64
        }
      ]
    },
    {
      "cell_type": "code",
      "metadata": {
        "id": "zRkQe7als_uw"
      },
      "source": [
        "mean = tf.round(train_data[:]['Age'].mean())\n"
      ],
      "execution_count": null,
      "outputs": []
    },
    {
      "cell_type": "code",
      "metadata": {
        "id": "5pjhVH6UvE2k"
      },
      "source": [
        "for index,row in train_data.iterrows():\n",
        "  if math.isnan(train_data.iloc[index]['Age'])==True:\n",
        "    train_data.at[index,'Age']=mean"
      ],
      "execution_count": null,
      "outputs": []
    },
    {
      "cell_type": "code",
      "metadata": {
        "colab": {
          "base_uri": "https://localhost:8080/",
          "height": 815
        },
        "id": "8VOSTQzFxVZI",
        "outputId": "7ac5497b-2741-44ee-97fb-13d442e59285"
      },
      "source": [
        "train_data[:25]"
      ],
      "execution_count": null,
      "outputs": [
        {
          "output_type": "execute_result",
          "data": {
            "text/html": [
              "<div>\n",
              "<style scoped>\n",
              "    .dataframe tbody tr th:only-of-type {\n",
              "        vertical-align: middle;\n",
              "    }\n",
              "\n",
              "    .dataframe tbody tr th {\n",
              "        vertical-align: top;\n",
              "    }\n",
              "\n",
              "    .dataframe thead th {\n",
              "        text-align: right;\n",
              "    }\n",
              "</style>\n",
              "<table border=\"1\" class=\"dataframe\">\n",
              "  <thead>\n",
              "    <tr style=\"text-align: right;\">\n",
              "      <th></th>\n",
              "      <th>Pclass</th>\n",
              "      <th>Sex</th>\n",
              "      <th>Age</th>\n",
              "      <th>SibSp</th>\n",
              "      <th>Parch</th>\n",
              "      <th>Fare</th>\n",
              "      <th>Embarked</th>\n",
              "    </tr>\n",
              "  </thead>\n",
              "  <tbody>\n",
              "    <tr>\n",
              "      <th>0</th>\n",
              "      <td>3</td>\n",
              "      <td>male</td>\n",
              "      <td>22.0</td>\n",
              "      <td>1</td>\n",
              "      <td>0</td>\n",
              "      <td>7.2500</td>\n",
              "      <td>S</td>\n",
              "    </tr>\n",
              "    <tr>\n",
              "      <th>1</th>\n",
              "      <td>1</td>\n",
              "      <td>female</td>\n",
              "      <td>38.0</td>\n",
              "      <td>1</td>\n",
              "      <td>0</td>\n",
              "      <td>71.2833</td>\n",
              "      <td>C</td>\n",
              "    </tr>\n",
              "    <tr>\n",
              "      <th>2</th>\n",
              "      <td>3</td>\n",
              "      <td>female</td>\n",
              "      <td>26.0</td>\n",
              "      <td>0</td>\n",
              "      <td>0</td>\n",
              "      <td>7.9250</td>\n",
              "      <td>S</td>\n",
              "    </tr>\n",
              "    <tr>\n",
              "      <th>3</th>\n",
              "      <td>1</td>\n",
              "      <td>female</td>\n",
              "      <td>35.0</td>\n",
              "      <td>1</td>\n",
              "      <td>0</td>\n",
              "      <td>53.1000</td>\n",
              "      <td>S</td>\n",
              "    </tr>\n",
              "    <tr>\n",
              "      <th>4</th>\n",
              "      <td>3</td>\n",
              "      <td>male</td>\n",
              "      <td>35.0</td>\n",
              "      <td>0</td>\n",
              "      <td>0</td>\n",
              "      <td>8.0500</td>\n",
              "      <td>S</td>\n",
              "    </tr>\n",
              "    <tr>\n",
              "      <th>5</th>\n",
              "      <td>3</td>\n",
              "      <td>male</td>\n",
              "      <td>30.0</td>\n",
              "      <td>0</td>\n",
              "      <td>0</td>\n",
              "      <td>8.4583</td>\n",
              "      <td>Q</td>\n",
              "    </tr>\n",
              "    <tr>\n",
              "      <th>6</th>\n",
              "      <td>1</td>\n",
              "      <td>male</td>\n",
              "      <td>54.0</td>\n",
              "      <td>0</td>\n",
              "      <td>0</td>\n",
              "      <td>51.8625</td>\n",
              "      <td>S</td>\n",
              "    </tr>\n",
              "    <tr>\n",
              "      <th>7</th>\n",
              "      <td>3</td>\n",
              "      <td>male</td>\n",
              "      <td>2.0</td>\n",
              "      <td>3</td>\n",
              "      <td>1</td>\n",
              "      <td>21.0750</td>\n",
              "      <td>S</td>\n",
              "    </tr>\n",
              "    <tr>\n",
              "      <th>8</th>\n",
              "      <td>3</td>\n",
              "      <td>female</td>\n",
              "      <td>27.0</td>\n",
              "      <td>0</td>\n",
              "      <td>2</td>\n",
              "      <td>11.1333</td>\n",
              "      <td>S</td>\n",
              "    </tr>\n",
              "    <tr>\n",
              "      <th>9</th>\n",
              "      <td>2</td>\n",
              "      <td>female</td>\n",
              "      <td>14.0</td>\n",
              "      <td>1</td>\n",
              "      <td>0</td>\n",
              "      <td>30.0708</td>\n",
              "      <td>C</td>\n",
              "    </tr>\n",
              "    <tr>\n",
              "      <th>10</th>\n",
              "      <td>3</td>\n",
              "      <td>female</td>\n",
              "      <td>4.0</td>\n",
              "      <td>1</td>\n",
              "      <td>1</td>\n",
              "      <td>16.7000</td>\n",
              "      <td>S</td>\n",
              "    </tr>\n",
              "    <tr>\n",
              "      <th>11</th>\n",
              "      <td>1</td>\n",
              "      <td>female</td>\n",
              "      <td>58.0</td>\n",
              "      <td>0</td>\n",
              "      <td>0</td>\n",
              "      <td>26.5500</td>\n",
              "      <td>S</td>\n",
              "    </tr>\n",
              "    <tr>\n",
              "      <th>12</th>\n",
              "      <td>3</td>\n",
              "      <td>male</td>\n",
              "      <td>20.0</td>\n",
              "      <td>0</td>\n",
              "      <td>0</td>\n",
              "      <td>8.0500</td>\n",
              "      <td>S</td>\n",
              "    </tr>\n",
              "    <tr>\n",
              "      <th>13</th>\n",
              "      <td>3</td>\n",
              "      <td>male</td>\n",
              "      <td>39.0</td>\n",
              "      <td>1</td>\n",
              "      <td>5</td>\n",
              "      <td>31.2750</td>\n",
              "      <td>S</td>\n",
              "    </tr>\n",
              "    <tr>\n",
              "      <th>14</th>\n",
              "      <td>3</td>\n",
              "      <td>female</td>\n",
              "      <td>14.0</td>\n",
              "      <td>0</td>\n",
              "      <td>0</td>\n",
              "      <td>7.8542</td>\n",
              "      <td>S</td>\n",
              "    </tr>\n",
              "    <tr>\n",
              "      <th>15</th>\n",
              "      <td>2</td>\n",
              "      <td>female</td>\n",
              "      <td>55.0</td>\n",
              "      <td>0</td>\n",
              "      <td>0</td>\n",
              "      <td>16.0000</td>\n",
              "      <td>S</td>\n",
              "    </tr>\n",
              "    <tr>\n",
              "      <th>16</th>\n",
              "      <td>3</td>\n",
              "      <td>male</td>\n",
              "      <td>2.0</td>\n",
              "      <td>4</td>\n",
              "      <td>1</td>\n",
              "      <td>29.1250</td>\n",
              "      <td>Q</td>\n",
              "    </tr>\n",
              "    <tr>\n",
              "      <th>17</th>\n",
              "      <td>2</td>\n",
              "      <td>male</td>\n",
              "      <td>30.0</td>\n",
              "      <td>0</td>\n",
              "      <td>0</td>\n",
              "      <td>13.0000</td>\n",
              "      <td>S</td>\n",
              "    </tr>\n",
              "    <tr>\n",
              "      <th>18</th>\n",
              "      <td>3</td>\n",
              "      <td>female</td>\n",
              "      <td>31.0</td>\n",
              "      <td>1</td>\n",
              "      <td>0</td>\n",
              "      <td>18.0000</td>\n",
              "      <td>S</td>\n",
              "    </tr>\n",
              "    <tr>\n",
              "      <th>19</th>\n",
              "      <td>3</td>\n",
              "      <td>female</td>\n",
              "      <td>30.0</td>\n",
              "      <td>0</td>\n",
              "      <td>0</td>\n",
              "      <td>7.2250</td>\n",
              "      <td>C</td>\n",
              "    </tr>\n",
              "    <tr>\n",
              "      <th>20</th>\n",
              "      <td>2</td>\n",
              "      <td>male</td>\n",
              "      <td>35.0</td>\n",
              "      <td>0</td>\n",
              "      <td>0</td>\n",
              "      <td>26.0000</td>\n",
              "      <td>S</td>\n",
              "    </tr>\n",
              "    <tr>\n",
              "      <th>21</th>\n",
              "      <td>2</td>\n",
              "      <td>male</td>\n",
              "      <td>34.0</td>\n",
              "      <td>0</td>\n",
              "      <td>0</td>\n",
              "      <td>13.0000</td>\n",
              "      <td>S</td>\n",
              "    </tr>\n",
              "    <tr>\n",
              "      <th>22</th>\n",
              "      <td>3</td>\n",
              "      <td>female</td>\n",
              "      <td>15.0</td>\n",
              "      <td>0</td>\n",
              "      <td>0</td>\n",
              "      <td>8.0292</td>\n",
              "      <td>Q</td>\n",
              "    </tr>\n",
              "    <tr>\n",
              "      <th>23</th>\n",
              "      <td>1</td>\n",
              "      <td>male</td>\n",
              "      <td>28.0</td>\n",
              "      <td>0</td>\n",
              "      <td>0</td>\n",
              "      <td>35.5000</td>\n",
              "      <td>S</td>\n",
              "    </tr>\n",
              "    <tr>\n",
              "      <th>24</th>\n",
              "      <td>3</td>\n",
              "      <td>female</td>\n",
              "      <td>8.0</td>\n",
              "      <td>3</td>\n",
              "      <td>1</td>\n",
              "      <td>21.0750</td>\n",
              "      <td>S</td>\n",
              "    </tr>\n",
              "  </tbody>\n",
              "</table>\n",
              "</div>"
            ],
            "text/plain": [
              "    Pclass     Sex   Age  SibSp  Parch     Fare Embarked\n",
              "0        3    male  22.0      1      0   7.2500        S\n",
              "1        1  female  38.0      1      0  71.2833        C\n",
              "2        3  female  26.0      0      0   7.9250        S\n",
              "3        1  female  35.0      1      0  53.1000        S\n",
              "4        3    male  35.0      0      0   8.0500        S\n",
              "5        3    male  30.0      0      0   8.4583        Q\n",
              "6        1    male  54.0      0      0  51.8625        S\n",
              "7        3    male   2.0      3      1  21.0750        S\n",
              "8        3  female  27.0      0      2  11.1333        S\n",
              "9        2  female  14.0      1      0  30.0708        C\n",
              "10       3  female   4.0      1      1  16.7000        S\n",
              "11       1  female  58.0      0      0  26.5500        S\n",
              "12       3    male  20.0      0      0   8.0500        S\n",
              "13       3    male  39.0      1      5  31.2750        S\n",
              "14       3  female  14.0      0      0   7.8542        S\n",
              "15       2  female  55.0      0      0  16.0000        S\n",
              "16       3    male   2.0      4      1  29.1250        Q\n",
              "17       2    male  30.0      0      0  13.0000        S\n",
              "18       3  female  31.0      1      0  18.0000        S\n",
              "19       3  female  30.0      0      0   7.2250        C\n",
              "20       2    male  35.0      0      0  26.0000        S\n",
              "21       2    male  34.0      0      0  13.0000        S\n",
              "22       3  female  15.0      0      0   8.0292        Q\n",
              "23       1    male  28.0      0      0  35.5000        S\n",
              "24       3  female   8.0      3      1  21.0750        S"
            ]
          },
          "metadata": {
            "tags": []
          },
          "execution_count": 67
        }
      ]
    },
    {
      "cell_type": "markdown",
      "metadata": {
        "id": "IulZT3QV5e1j"
      },
      "source": [
        "# Our data should be one hot encoded for our neural network"
      ]
    },
    {
      "cell_type": "code",
      "metadata": {
        "id": "OzW3kpUAKEnR"
      },
      "source": [
        "train_data = pd.get_dummies(train_data,columns=['Sex','Embarked'])"
      ],
      "execution_count": null,
      "outputs": []
    },
    {
      "cell_type": "code",
      "metadata": {
        "colab": {
          "base_uri": "https://localhost:8080/",
          "height": 232
        },
        "id": "jALRGnKCL19D",
        "outputId": "bf44dbdd-a9ed-4ffc-905c-53a278d51d75"
      },
      "source": [
        "train_data[:6]"
      ],
      "execution_count": null,
      "outputs": [
        {
          "output_type": "execute_result",
          "data": {
            "text/html": [
              "<div>\n",
              "<style scoped>\n",
              "    .dataframe tbody tr th:only-of-type {\n",
              "        vertical-align: middle;\n",
              "    }\n",
              "\n",
              "    .dataframe tbody tr th {\n",
              "        vertical-align: top;\n",
              "    }\n",
              "\n",
              "    .dataframe thead th {\n",
              "        text-align: right;\n",
              "    }\n",
              "</style>\n",
              "<table border=\"1\" class=\"dataframe\">\n",
              "  <thead>\n",
              "    <tr style=\"text-align: right;\">\n",
              "      <th></th>\n",
              "      <th>Pclass</th>\n",
              "      <th>Age</th>\n",
              "      <th>SibSp</th>\n",
              "      <th>Parch</th>\n",
              "      <th>Fare</th>\n",
              "      <th>Sex_female</th>\n",
              "      <th>Sex_male</th>\n",
              "      <th>Embarked_C</th>\n",
              "      <th>Embarked_Q</th>\n",
              "      <th>Embarked_S</th>\n",
              "    </tr>\n",
              "  </thead>\n",
              "  <tbody>\n",
              "    <tr>\n",
              "      <th>0</th>\n",
              "      <td>3</td>\n",
              "      <td>22.0</td>\n",
              "      <td>1</td>\n",
              "      <td>0</td>\n",
              "      <td>7.2500</td>\n",
              "      <td>0</td>\n",
              "      <td>1</td>\n",
              "      <td>0</td>\n",
              "      <td>0</td>\n",
              "      <td>1</td>\n",
              "    </tr>\n",
              "    <tr>\n",
              "      <th>1</th>\n",
              "      <td>1</td>\n",
              "      <td>38.0</td>\n",
              "      <td>1</td>\n",
              "      <td>0</td>\n",
              "      <td>71.2833</td>\n",
              "      <td>1</td>\n",
              "      <td>0</td>\n",
              "      <td>1</td>\n",
              "      <td>0</td>\n",
              "      <td>0</td>\n",
              "    </tr>\n",
              "    <tr>\n",
              "      <th>2</th>\n",
              "      <td>3</td>\n",
              "      <td>26.0</td>\n",
              "      <td>0</td>\n",
              "      <td>0</td>\n",
              "      <td>7.9250</td>\n",
              "      <td>1</td>\n",
              "      <td>0</td>\n",
              "      <td>0</td>\n",
              "      <td>0</td>\n",
              "      <td>1</td>\n",
              "    </tr>\n",
              "    <tr>\n",
              "      <th>3</th>\n",
              "      <td>1</td>\n",
              "      <td>35.0</td>\n",
              "      <td>1</td>\n",
              "      <td>0</td>\n",
              "      <td>53.1000</td>\n",
              "      <td>1</td>\n",
              "      <td>0</td>\n",
              "      <td>0</td>\n",
              "      <td>0</td>\n",
              "      <td>1</td>\n",
              "    </tr>\n",
              "    <tr>\n",
              "      <th>4</th>\n",
              "      <td>3</td>\n",
              "      <td>35.0</td>\n",
              "      <td>0</td>\n",
              "      <td>0</td>\n",
              "      <td>8.0500</td>\n",
              "      <td>0</td>\n",
              "      <td>1</td>\n",
              "      <td>0</td>\n",
              "      <td>0</td>\n",
              "      <td>1</td>\n",
              "    </tr>\n",
              "    <tr>\n",
              "      <th>5</th>\n",
              "      <td>3</td>\n",
              "      <td>30.0</td>\n",
              "      <td>0</td>\n",
              "      <td>0</td>\n",
              "      <td>8.4583</td>\n",
              "      <td>0</td>\n",
              "      <td>1</td>\n",
              "      <td>0</td>\n",
              "      <td>1</td>\n",
              "      <td>0</td>\n",
              "    </tr>\n",
              "  </tbody>\n",
              "</table>\n",
              "</div>"
            ],
            "text/plain": [
              "   Pclass   Age  SibSp  Parch  ...  Sex_male  Embarked_C  Embarked_Q  Embarked_S\n",
              "0       3  22.0      1      0  ...         1           0           0           1\n",
              "1       1  38.0      1      0  ...         0           1           0           0\n",
              "2       3  26.0      0      0  ...         0           0           0           1\n",
              "3       1  35.0      1      0  ...         0           0           0           1\n",
              "4       3  35.0      0      0  ...         1           0           0           1\n",
              "5       3  30.0      0      0  ...         1           0           1           0\n",
              "\n",
              "[6 rows x 10 columns]"
            ]
          },
          "metadata": {
            "tags": []
          },
          "execution_count": 69
        }
      ]
    },
    {
      "cell_type": "code",
      "metadata": {
        "id": "WuUX8pi8MXQ-"
      },
      "source": [
        "# Converting dataframe to numpy array\n",
        "train_data = np.array(train_data.values)"
      ],
      "execution_count": null,
      "outputs": []
    },
    {
      "cell_type": "markdown",
      "metadata": {
        "id": "CPm9ryw05unR"
      },
      "source": [
        "# Normalizing data"
      ]
    },
    {
      "cell_type": "code",
      "metadata": {
        "id": "b8md5-DLOkD4"
      },
      "source": [
        "age_div = np.amax(train_data[:,1])\n",
        "train_data[:,1]= train_data[:,1]/np.amax(train_data[:,1])"
      ],
      "execution_count": null,
      "outputs": []
    },
    {
      "cell_type": "code",
      "metadata": {
        "colab": {
          "base_uri": "https://localhost:8080/"
        },
        "id": "XvSC1-8tG571",
        "outputId": "3586636f-a25e-449d-d442-b5010334bd2b"
      },
      "source": [
        "train_data[:6]"
      ],
      "execution_count": null,
      "outputs": [
        {
          "output_type": "execute_result",
          "data": {
            "text/plain": [
              "array([[ 3.    ,  0.275 ,  1.    ,  0.    ,  7.25  ,  0.    ,  1.    ,\n",
              "         0.    ,  0.    ,  1.    ],\n",
              "       [ 1.    ,  0.475 ,  1.    ,  0.    , 71.2833,  1.    ,  0.    ,\n",
              "         1.    ,  0.    ,  0.    ],\n",
              "       [ 3.    ,  0.325 ,  0.    ,  0.    ,  7.925 ,  1.    ,  0.    ,\n",
              "         0.    ,  0.    ,  1.    ],\n",
              "       [ 1.    ,  0.4375,  1.    ,  0.    , 53.1   ,  1.    ,  0.    ,\n",
              "         0.    ,  0.    ,  1.    ],\n",
              "       [ 3.    ,  0.4375,  0.    ,  0.    ,  8.05  ,  0.    ,  1.    ,\n",
              "         0.    ,  0.    ,  1.    ],\n",
              "       [ 3.    ,  0.375 ,  0.    ,  0.    ,  8.4583,  0.    ,  1.    ,\n",
              "         0.    ,  1.    ,  0.    ]])"
            ]
          },
          "metadata": {
            "tags": []
          },
          "execution_count": 72
        }
      ]
    },
    {
      "cell_type": "code",
      "metadata": {
        "id": "Uno9YpH21Oe-"
      },
      "source": [
        "#train_data[:,1]= train_data[:,1]/np.amax(train_data[:,1])"
      ],
      "execution_count": null,
      "outputs": []
    },
    {
      "cell_type": "code",
      "metadata": {
        "colab": {
          "base_uri": "https://localhost:8080/"
        },
        "id": "_uTxMhQN0RBt",
        "outputId": "f3b26879-6f4e-48ad-8d1f-a76858861971"
      },
      "source": [
        "np.amax(train_data[:,1])"
      ],
      "execution_count": null,
      "outputs": [
        {
          "output_type": "execute_result",
          "data": {
            "text/plain": [
              "1.0"
            ]
          },
          "metadata": {
            "tags": []
          },
          "execution_count": 74
        }
      ]
    },
    {
      "cell_type": "code",
      "metadata": {
        "id": "ZCc53A0Z1Dwf"
      },
      "source": [
        "fare_div = np.amax(train_data[:,4])\n",
        "train_data[:,4] = train_data[:,4]/np.amax(train_data[:,4])"
      ],
      "execution_count": null,
      "outputs": []
    },
    {
      "cell_type": "code",
      "metadata": {
        "colab": {
          "base_uri": "https://localhost:8080/"
        },
        "id": "aVVOUvui1obI",
        "outputId": "4ed58570-e407-418b-85c3-dbddadf30121"
      },
      "source": [
        "train_data[:3]"
      ],
      "execution_count": null,
      "outputs": [
        {
          "output_type": "execute_result",
          "data": {
            "text/plain": [
              "array([[3.        , 0.275     , 1.        , 0.        , 0.01415106,\n",
              "        0.        , 1.        , 0.        , 0.        , 1.        ],\n",
              "       [1.        , 0.475     , 1.        , 0.        , 0.13913574,\n",
              "        1.        , 0.        , 1.        , 0.        , 0.        ],\n",
              "       [3.        , 0.325     , 0.        , 0.        , 0.01546857,\n",
              "        1.        , 0.        , 0.        , 0.        , 1.        ]])"
            ]
          },
          "metadata": {
            "tags": []
          },
          "execution_count": 76
        }
      ]
    },
    {
      "cell_type": "code",
      "metadata": {
        "id": "dSEAWaV-Pjcu"
      },
      "source": [
        "from sklearn.model_selection import train_test_split\n",
        "X_train, X_test, y_train, y_test = train_test_split(train_data,train_labels,test_size=0.3,random_state = 36)\n"
      ],
      "execution_count": null,
      "outputs": []
    },
    {
      "cell_type": "code",
      "metadata": {
        "id": "am7cPvYKPuCr"
      },
      "source": [
        ""
      ],
      "execution_count": null,
      "outputs": []
    },
    {
      "cell_type": "code",
      "metadata": {
        "id": "NOrOqJ_hQpJ9"
      },
      "source": [
        "tf.random.set_seed(42)\n",
        "\n",
        "model_1 = tf.keras.Sequential([\n",
        "                               tf.keras.layers.Dense(50,'relu'),\n",
        "                               tf.keras.layers.Dense(25,'relu'),\n",
        "                               tf.keras.layers.Dense(25,'relu'), \n",
        "                               tf.keras.layers.Dense(1,'sigmoid')\n",
        "])"
      ],
      "execution_count": null,
      "outputs": []
    },
    {
      "cell_type": "code",
      "metadata": {
        "colab": {
          "base_uri": "https://localhost:8080/"
        },
        "id": "d_2XI_uXQrRN",
        "outputId": "2724c050-1c82-4efa-9529-7a22f56c6893"
      },
      "source": [
        "lr_sched = tf.keras.callbacks.LearningRateScheduler(lambda epoch: 1e-4 * 10**(epoch/20))\n",
        "\n",
        "model_1.compile(loss=tf.keras.losses.BinaryCrossentropy(),optimizer=tf.keras.optimizers.Adam(learning_rate=0.0001),metrics=['accuracy'])\n",
        "\n",
        "model_1.fit(X_train,y_train,epochs=50,validation_data=(X_test,y_test),callbacks=[lr_sched])"
      ],
      "execution_count": null,
      "outputs": [
        {
          "output_type": "stream",
          "text": [
            "Epoch 1/50\n",
            "20/20 [==============================] - 1s 12ms/step - loss: 0.6705 - accuracy: 0.6260 - val_loss: 0.6756 - val_accuracy: 0.5933\n",
            "Epoch 2/50\n",
            "20/20 [==============================] - 0s 4ms/step - loss: 0.6624 - accuracy: 0.6260 - val_loss: 0.6683 - val_accuracy: 0.5933\n",
            "Epoch 3/50\n",
            "20/20 [==============================] - 0s 3ms/step - loss: 0.6546 - accuracy: 0.6260 - val_loss: 0.6611 - val_accuracy: 0.5933\n",
            "Epoch 4/50\n",
            "20/20 [==============================] - 0s 3ms/step - loss: 0.6472 - accuracy: 0.6260 - val_loss: 0.6543 - val_accuracy: 0.5933\n",
            "Epoch 5/50\n",
            "20/20 [==============================] - 0s 5ms/step - loss: 0.6403 - accuracy: 0.6260 - val_loss: 0.6472 - val_accuracy: 0.5933\n",
            "Epoch 6/50\n",
            "20/20 [==============================] - 0s 3ms/step - loss: 0.6327 - accuracy: 0.6260 - val_loss: 0.6397 - val_accuracy: 0.5933\n",
            "Epoch 7/50\n",
            "20/20 [==============================] - 0s 4ms/step - loss: 0.6248 - accuracy: 0.6260 - val_loss: 0.6325 - val_accuracy: 0.5933\n",
            "Epoch 8/50\n",
            "20/20 [==============================] - 0s 3ms/step - loss: 0.6179 - accuracy: 0.6260 - val_loss: 0.6239 - val_accuracy: 0.5933\n",
            "Epoch 9/50\n",
            "20/20 [==============================] - 0s 3ms/step - loss: 0.6089 - accuracy: 0.6292 - val_loss: 0.6133 - val_accuracy: 0.6045\n",
            "Epoch 10/50\n",
            "20/20 [==============================] - 0s 4ms/step - loss: 0.5994 - accuracy: 0.6517 - val_loss: 0.5991 - val_accuracy: 0.6418\n",
            "Epoch 11/50\n",
            "20/20 [==============================] - 0s 3ms/step - loss: 0.5880 - accuracy: 0.6677 - val_loss: 0.5822 - val_accuracy: 0.6493\n",
            "Epoch 12/50\n",
            "20/20 [==============================] - 0s 3ms/step - loss: 0.5738 - accuracy: 0.6774 - val_loss: 0.5586 - val_accuracy: 0.6791\n",
            "Epoch 13/50\n",
            "20/20 [==============================] - 0s 3ms/step - loss: 0.5564 - accuracy: 0.7127 - val_loss: 0.5324 - val_accuracy: 0.7239\n",
            "Epoch 14/50\n",
            "20/20 [==============================] - 0s 3ms/step - loss: 0.5377 - accuracy: 0.7673 - val_loss: 0.5024 - val_accuracy: 0.8246\n",
            "Epoch 15/50\n",
            "20/20 [==============================] - 0s 4ms/step - loss: 0.5170 - accuracy: 0.7994 - val_loss: 0.4752 - val_accuracy: 0.8321\n",
            "Epoch 16/50\n",
            "20/20 [==============================] - 0s 3ms/step - loss: 0.5014 - accuracy: 0.7929 - val_loss: 0.4510 - val_accuracy: 0.8396\n",
            "Epoch 17/50\n",
            "20/20 [==============================] - 0s 3ms/step - loss: 0.4867 - accuracy: 0.7945 - val_loss: 0.4371 - val_accuracy: 0.8358\n",
            "Epoch 18/50\n",
            "20/20 [==============================] - 0s 4ms/step - loss: 0.4778 - accuracy: 0.7929 - val_loss: 0.4242 - val_accuracy: 0.8433\n",
            "Epoch 19/50\n",
            "20/20 [==============================] - 0s 3ms/step - loss: 0.4698 - accuracy: 0.7945 - val_loss: 0.4160 - val_accuracy: 0.8358\n",
            "Epoch 20/50\n",
            "20/20 [==============================] - 0s 3ms/step - loss: 0.4709 - accuracy: 0.7881 - val_loss: 0.4320 - val_accuracy: 0.8209\n",
            "Epoch 21/50\n",
            "20/20 [==============================] - 0s 4ms/step - loss: 0.4699 - accuracy: 0.7865 - val_loss: 0.4209 - val_accuracy: 0.8321\n",
            "Epoch 22/50\n",
            "20/20 [==============================] - 0s 3ms/step - loss: 0.4523 - accuracy: 0.8042 - val_loss: 0.4091 - val_accuracy: 0.8321\n",
            "Epoch 23/50\n",
            "20/20 [==============================] - 0s 3ms/step - loss: 0.4528 - accuracy: 0.7897 - val_loss: 0.4062 - val_accuracy: 0.8358\n",
            "Epoch 24/50\n",
            "20/20 [==============================] - 0s 4ms/step - loss: 0.4441 - accuracy: 0.8074 - val_loss: 0.4033 - val_accuracy: 0.8284\n",
            "Epoch 25/50\n",
            "20/20 [==============================] - 0s 3ms/step - loss: 0.4384 - accuracy: 0.8010 - val_loss: 0.4080 - val_accuracy: 0.8321\n",
            "Epoch 26/50\n",
            "20/20 [==============================] - 0s 3ms/step - loss: 0.4398 - accuracy: 0.8026 - val_loss: 0.4106 - val_accuracy: 0.8321\n",
            "Epoch 27/50\n",
            "20/20 [==============================] - 0s 4ms/step - loss: 0.4438 - accuracy: 0.7978 - val_loss: 0.4025 - val_accuracy: 0.8246\n",
            "Epoch 28/50\n",
            "20/20 [==============================] - 0s 4ms/step - loss: 0.4403 - accuracy: 0.7961 - val_loss: 0.4097 - val_accuracy: 0.8358\n",
            "Epoch 29/50\n",
            "20/20 [==============================] - 0s 4ms/step - loss: 0.4363 - accuracy: 0.8058 - val_loss: 0.4076 - val_accuracy: 0.8209\n",
            "Epoch 30/50\n",
            "20/20 [==============================] - 0s 4ms/step - loss: 0.4325 - accuracy: 0.8026 - val_loss: 0.4139 - val_accuracy: 0.8284\n",
            "Epoch 31/50\n",
            "20/20 [==============================] - 0s 3ms/step - loss: 0.4351 - accuracy: 0.8058 - val_loss: 0.4173 - val_accuracy: 0.8358\n",
            "Epoch 32/50\n",
            "20/20 [==============================] - 0s 5ms/step - loss: 0.4297 - accuracy: 0.8010 - val_loss: 0.4103 - val_accuracy: 0.8321\n",
            "Epoch 33/50\n",
            "20/20 [==============================] - 0s 4ms/step - loss: 0.4238 - accuracy: 0.8058 - val_loss: 0.4134 - val_accuracy: 0.8246\n",
            "Epoch 34/50\n",
            "20/20 [==============================] - 0s 4ms/step - loss: 0.4239 - accuracy: 0.8026 - val_loss: 0.4350 - val_accuracy: 0.8060\n",
            "Epoch 35/50\n",
            "20/20 [==============================] - 0s 3ms/step - loss: 0.4283 - accuracy: 0.7961 - val_loss: 0.4273 - val_accuracy: 0.8284\n",
            "Epoch 36/50\n",
            "20/20 [==============================] - 0s 4ms/step - loss: 0.4252 - accuracy: 0.8026 - val_loss: 0.4247 - val_accuracy: 0.8433\n",
            "Epoch 37/50\n",
            "20/20 [==============================] - 0s 4ms/step - loss: 0.4233 - accuracy: 0.8154 - val_loss: 0.4179 - val_accuracy: 0.8358\n",
            "Epoch 38/50\n",
            "20/20 [==============================] - 0s 3ms/step - loss: 0.4203 - accuracy: 0.8186 - val_loss: 0.4321 - val_accuracy: 0.8284\n",
            "Epoch 39/50\n",
            "20/20 [==============================] - 0s 3ms/step - loss: 0.4222 - accuracy: 0.8138 - val_loss: 0.4367 - val_accuracy: 0.8246\n",
            "Epoch 40/50\n",
            "20/20 [==============================] - 0s 3ms/step - loss: 0.4403 - accuracy: 0.8234 - val_loss: 0.4333 - val_accuracy: 0.8396\n",
            "Epoch 41/50\n",
            "20/20 [==============================] - 0s 3ms/step - loss: 0.4521 - accuracy: 0.8090 - val_loss: 0.4029 - val_accuracy: 0.8321\n",
            "Epoch 42/50\n",
            "20/20 [==============================] - 0s 4ms/step - loss: 0.4408 - accuracy: 0.7961 - val_loss: 0.4280 - val_accuracy: 0.8284\n",
            "Epoch 43/50\n",
            "20/20 [==============================] - 0s 3ms/step - loss: 0.4523 - accuracy: 0.8042 - val_loss: 0.4220 - val_accuracy: 0.8321\n",
            "Epoch 44/50\n",
            "20/20 [==============================] - 0s 4ms/step - loss: 0.4396 - accuracy: 0.8058 - val_loss: 0.4201 - val_accuracy: 0.8321\n",
            "Epoch 45/50\n",
            "20/20 [==============================] - 0s 4ms/step - loss: 0.4377 - accuracy: 0.7961 - val_loss: 0.4194 - val_accuracy: 0.8358\n",
            "Epoch 46/50\n",
            "20/20 [==============================] - 0s 4ms/step - loss: 0.4320 - accuracy: 0.8074 - val_loss: 0.4220 - val_accuracy: 0.8321\n",
            "Epoch 47/50\n",
            "20/20 [==============================] - 0s 3ms/step - loss: 0.4464 - accuracy: 0.8042 - val_loss: 0.4147 - val_accuracy: 0.8321\n",
            "Epoch 48/50\n",
            "20/20 [==============================] - 0s 3ms/step - loss: 0.4617 - accuracy: 0.8010 - val_loss: 0.4207 - val_accuracy: 0.8284\n",
            "Epoch 49/50\n",
            "20/20 [==============================] - 0s 4ms/step - loss: 0.4507 - accuracy: 0.8122 - val_loss: 0.4442 - val_accuracy: 0.8209\n",
            "Epoch 50/50\n",
            "20/20 [==============================] - 0s 3ms/step - loss: 0.4395 - accuracy: 0.8074 - val_loss: 0.4165 - val_accuracy: 0.8545\n"
          ],
          "name": "stdout"
        },
        {
          "output_type": "execute_result",
          "data": {
            "text/plain": [
              "<tensorflow.python.keras.callbacks.History at 0x7fd9a6b85510>"
            ]
          },
          "metadata": {
            "tags": []
          },
          "execution_count": 79
        }
      ]
    },
    {
      "cell_type": "code",
      "metadata": {
        "colab": {
          "base_uri": "https://localhost:8080/",
          "height": 282
        },
        "id": "sMXIf0H0Q-nW",
        "outputId": "729c88c0-cd1d-46b3-d5e4-d267eefde44e"
      },
      "source": [
        "pd.DataFrame(model_1.history.history).plot()"
      ],
      "execution_count": null,
      "outputs": [
        {
          "output_type": "execute_result",
          "data": {
            "text/plain": [
              "<matplotlib.axes._subplots.AxesSubplot at 0x7fd9a43f7590>"
            ]
          },
          "metadata": {
            "tags": []
          },
          "execution_count": 80
        },
        {
          "output_type": "display_data",
          "data": {
            "image/png": "[encoded data removed]",
            "text/plain": [
              "<Figure size 432x288 with 1 Axes>"
            ]
          },
          "metadata": {
            "tags": [],
            "needs_background": "light"
          }
        }
      ]
    },
    {
      "cell_type": "code",
      "metadata": {
        "colab": {
          "base_uri": "https://localhost:8080/",
          "height": 285
        },
        "id": "tNH4sY3IV22m",
        "outputId": "85458483-85ad-4e83-f4c9-1e611da9d22b"
      },
      "source": [
        "pd.DataFrame(model_1.history.history).drop(['accuracy','val_loss','val_accuracy'],axis=1).plot()\n"
      ],
      "execution_count": null,
      "outputs": [
        {
          "output_type": "execute_result",
          "data": {
            "text/plain": [
              "<matplotlib.axes._subplots.AxesSubplot at 0x7fd9a332ab50>"
            ]
          },
          "metadata": {
            "tags": []
          },
          "execution_count": 81
        },
        {
          "output_type": "display_data",
          "data": {
            "image/png": "[encoded data removed]",
            "text/plain": [
              "<Figure size 432x288 with 1 Axes>"
            ]
          },
          "metadata": {
            "tags": [],
            "needs_background": "light"
          }
        }
      ]
    },
    {
      "cell_type": "code",
      "metadata": {
        "colab": {
          "base_uri": "https://localhost:8080/",
          "height": 285
        },
        "id": "mHuWqQta9_gA",
        "outputId": "b24cc3e5-f47b-4b42-fe20-e557b44be902"
      },
      "source": [
        "pd.DataFrame(model_1.history.history).drop(['accuracy','val_loss','val_accuracy'],axis=1).plot()\n",
        "plt.xlim((0,2))"
      ],
      "execution_count": null,
      "outputs": [
        {
          "output_type": "execute_result",
          "data": {
            "text/plain": [
              "(0.0, 2.0)"
            ]
          },
          "metadata": {
            "tags": []
          },
          "execution_count": 82
        },
        {
          "output_type": "display_data",
          "data": {
            "image/png": "[encoded data removed]",
            "text/plain": [
              "<Figure size 432x288 with 1 Axes>"
            ]
          },
          "metadata": {
            "tags": [],
            "needs_background": "light"
          }
        }
      ]
    },
    {
      "cell_type": "code",
      "metadata": {
        "colab": {
          "base_uri": "https://localhost:8080/",
          "height": 286
        },
        "id": "siCZHG_x_Rzo",
        "outputId": "e275aeac-baee-41b3-baee-b25cf31fbdf8"
      },
      "source": [
        "plt.semilogx(model_1.history.history['lr'],model_1.history.history['loss'])"
      ],
      "execution_count": null,
      "outputs": [
        {
          "output_type": "execute_result",
          "data": {
            "text/plain": [
              "[<matplotlib.lines.Line2D at 0x7fd9a3206090>]"
            ]
          },
          "metadata": {
            "tags": []
          },
          "execution_count": 83
        },
        {
          "output_type": "display_data",
          "data": {
            "image/png": "[encoded data removed]",
            "text/plain": [
              "<Figure size 432x288 with 1 Axes>"
            ]
          },
          "metadata": {
            "tags": [],
            "needs_background": "light"
          }
        }
      ]
    },
    {
      "cell_type": "code",
      "metadata": {
        "id": "rbLo34xMA3fu"
      },
      "source": [
        "tf.random.set_seed(38)\n",
        "\n",
        "model_2 = tf.keras.Sequential([\n",
        "                               tf.keras.layers.Dense(15,'relu'),\n",
        "                               tf.keras.layers.BatchNormalization(),\n",
        "                               tf.keras.layers.Dropout(0.5),\n",
        "                               tf.keras.layers.Dense(25,'relu'),\n",
        "                              #tf.keras.layers.Dense(5,'relu'),\n",
        "                              tf.keras.layers.Dropout(0.3),\n",
        "                               tf.keras.layers.Dense(1,'sigmoid')\n",
        "                               \n",
        "])"
      ],
      "execution_count": null,
      "outputs": []
    },
    {
      "cell_type": "code",
      "metadata": {
        "colab": {
          "base_uri": "https://localhost:8080/"
        },
        "id": "Gghmh4a4CXkd",
        "outputId": "d5360d92-827b-4284-bd4d-650bea9bf469"
      },
      "source": [
        "def lr_scheduler(epoch,lr):\n",
        "  if epoch>25:\n",
        "    return lr*0.9\n",
        "  return lr\n",
        "\n",
        "lr_sched = tf.keras.callbacks.LearningRateScheduler(lr_scheduler)\n",
        "\n",
        "model_1.compile(loss=tf.keras.losses.BinaryCrossentropy(),optimizer=tf.keras.optimizers.SGD(learning_rate=0.001),metrics=['accuracy'])\n",
        "\n",
        "model_1.fit(X_train,y_train,epochs=50,validation_data=(X_test,y_test),callbacks=[lr_sched])"
      ],
      "execution_count": null,
      "outputs": [
        {
          "output_type": "stream",
          "text": [
            "Epoch 1/50\n",
            "20/20 [==============================] - 1s 10ms/step - loss: 0.4150 - accuracy: 0.8299 - val_loss: 0.4162 - val_accuracy: 0.8545\n",
            "Epoch 2/50\n",
            "20/20 [==============================] - 0s 3ms/step - loss: 0.4146 - accuracy: 0.8315 - val_loss: 0.4158 - val_accuracy: 0.8507\n",
            "Epoch 3/50\n",
            "20/20 [==============================] - 0s 3ms/step - loss: 0.4141 - accuracy: 0.8315 - val_loss: 0.4155 - val_accuracy: 0.8507\n",
            "Epoch 4/50\n",
            "20/20 [==============================] - 0s 3ms/step - loss: 0.4137 - accuracy: 0.8315 - val_loss: 0.4152 - val_accuracy: 0.8507\n",
            "Epoch 5/50\n",
            "20/20 [==============================] - 0s 3ms/step - loss: 0.4133 - accuracy: 0.8315 - val_loss: 0.4148 - val_accuracy: 0.8507\n",
            "Epoch 6/50\n",
            "20/20 [==============================] - 0s 3ms/step - loss: 0.4129 - accuracy: 0.8315 - val_loss: 0.4145 - val_accuracy: 0.8507\n",
            "Epoch 7/50\n",
            "20/20 [==============================] - 0s 3ms/step - loss: 0.4124 - accuracy: 0.8315 - val_loss: 0.4142 - val_accuracy: 0.8507\n",
            "Epoch 8/50\n",
            "20/20 [==============================] - 0s 2ms/step - loss: 0.4121 - accuracy: 0.8315 - val_loss: 0.4139 - val_accuracy: 0.8507\n",
            "Epoch 9/50\n",
            "20/20 [==============================] - 0s 3ms/step - loss: 0.4118 - accuracy: 0.8315 - val_loss: 0.4136 - val_accuracy: 0.8507\n",
            "Epoch 10/50\n",
            "20/20 [==============================] - 0s 3ms/step - loss: 0.4114 - accuracy: 0.8315 - val_loss: 0.4133 - val_accuracy: 0.8507\n",
            "Epoch 11/50\n",
            "20/20 [==============================] - 0s 3ms/step - loss: 0.4111 - accuracy: 0.8315 - val_loss: 0.4130 - val_accuracy: 0.8507\n",
            "Epoch 12/50\n",
            "20/20 [==============================] - 0s 3ms/step - loss: 0.4108 - accuracy: 0.8315 - val_loss: 0.4128 - val_accuracy: 0.8507\n",
            "Epoch 13/50\n",
            "20/20 [==============================] - 0s 2ms/step - loss: 0.4105 - accuracy: 0.8315 - val_loss: 0.4125 - val_accuracy: 0.8507\n",
            "Epoch 14/50\n",
            "20/20 [==============================] - 0s 3ms/step - loss: 0.4102 - accuracy: 0.8315 - val_loss: 0.4122 - val_accuracy: 0.8507\n",
            "Epoch 15/50\n",
            "20/20 [==============================] - 0s 3ms/step - loss: 0.4099 - accuracy: 0.8315 - val_loss: 0.4120 - val_accuracy: 0.8507\n",
            "Epoch 16/50\n",
            "20/20 [==============================] - 0s 3ms/step - loss: 0.4096 - accuracy: 0.8315 - val_loss: 0.4117 - val_accuracy: 0.8507\n",
            "Epoch 17/50\n",
            "20/20 [==============================] - 0s 3ms/step - loss: 0.4094 - accuracy: 0.8315 - val_loss: 0.4115 - val_accuracy: 0.8507\n",
            "Epoch 18/50\n",
            "20/20 [==============================] - 0s 3ms/step - loss: 0.4091 - accuracy: 0.8315 - val_loss: 0.4113 - val_accuracy: 0.8507\n",
            "Epoch 19/50\n",
            "20/20 [==============================] - 0s 2ms/step - loss: 0.4089 - accuracy: 0.8315 - val_loss: 0.4111 - val_accuracy: 0.8507\n",
            "Epoch 20/50\n",
            "20/20 [==============================] - 0s 4ms/step - loss: 0.4086 - accuracy: 0.8315 - val_loss: 0.4108 - val_accuracy: 0.8507\n",
            "Epoch 21/50\n",
            "20/20 [==============================] - 0s 3ms/step - loss: 0.4084 - accuracy: 0.8315 - val_loss: 0.4106 - val_accuracy: 0.8507\n",
            "Epoch 22/50\n",
            "20/20 [==============================] - 0s 3ms/step - loss: 0.4081 - accuracy: 0.8315 - val_loss: 0.4104 - val_accuracy: 0.8507\n",
            "Epoch 23/50\n",
            "20/20 [==============================] - 0s 3ms/step - loss: 0.4078 - accuracy: 0.8315 - val_loss: 0.4102 - val_accuracy: 0.8507\n",
            "Epoch 24/50\n",
            "20/20 [==============================] - 0s 3ms/step - loss: 0.4076 - accuracy: 0.8315 - val_loss: 0.4101 - val_accuracy: 0.8507\n",
            "Epoch 25/50\n",
            "20/20 [==============================] - 0s 3ms/step - loss: 0.4073 - accuracy: 0.8315 - val_loss: 0.4099 - val_accuracy: 0.8507\n",
            "Epoch 26/50\n",
            "20/20 [==============================] - 0s 3ms/step - loss: 0.4071 - accuracy: 0.8315 - val_loss: 0.4097 - val_accuracy: 0.8507\n",
            "Epoch 27/50\n",
            "20/20 [==============================] - 0s 3ms/step - loss: 0.4069 - accuracy: 0.8315 - val_loss: 0.4096 - val_accuracy: 0.8507\n",
            "Epoch 28/50\n",
            "20/20 [==============================] - 0s 3ms/step - loss: 0.4067 - accuracy: 0.8315 - val_loss: 0.4095 - val_accuracy: 0.8507\n",
            "Epoch 29/50\n",
            "20/20 [==============================] - 0s 3ms/step - loss: 0.4065 - accuracy: 0.8315 - val_loss: 0.4094 - val_accuracy: 0.8507\n",
            "Epoch 30/50\n",
            "20/20 [==============================] - 0s 3ms/step - loss: 0.4064 - accuracy: 0.8315 - val_loss: 0.4093 - val_accuracy: 0.8507\n",
            "Epoch 31/50\n",
            "20/20 [==============================] - 0s 3ms/step - loss: 0.4062 - accuracy: 0.8315 - val_loss: 0.4092 - val_accuracy: 0.8507\n",
            "Epoch 32/50\n",
            "20/20 [==============================] - 0s 3ms/step - loss: 0.4061 - accuracy: 0.8315 - val_loss: 0.4091 - val_accuracy: 0.8507\n",
            "Epoch 33/50\n",
            "20/20 [==============================] - 0s 3ms/step - loss: 0.4060 - accuracy: 0.8315 - val_loss: 0.4090 - val_accuracy: 0.8507\n",
            "Epoch 34/50\n",
            "20/20 [==============================] - 0s 3ms/step - loss: 0.4059 - accuracy: 0.8315 - val_loss: 0.4090 - val_accuracy: 0.8507\n",
            "Epoch 35/50\n",
            "20/20 [==============================] - 0s 3ms/step - loss: 0.4058 - accuracy: 0.8315 - val_loss: 0.4089 - val_accuracy: 0.8507\n",
            "Epoch 36/50\n",
            "20/20 [==============================] - 0s 3ms/step - loss: 0.4057 - accuracy: 0.8315 - val_loss: 0.4088 - val_accuracy: 0.8507\n",
            "Epoch 37/50\n",
            "20/20 [==============================] - 0s 4ms/step - loss: 0.4056 - accuracy: 0.8315 - val_loss: 0.4088 - val_accuracy: 0.8507\n",
            "Epoch 38/50\n",
            "20/20 [==============================] - 0s 4ms/step - loss: 0.4056 - accuracy: 0.8315 - val_loss: 0.4087 - val_accuracy: 0.8507\n",
            "Epoch 39/50\n",
            "20/20 [==============================] - 0s 3ms/step - loss: 0.4055 - accuracy: 0.8315 - val_loss: 0.4087 - val_accuracy: 0.8507\n",
            "Epoch 40/50\n",
            "20/20 [==============================] - 0s 3ms/step - loss: 0.4055 - accuracy: 0.8315 - val_loss: 0.4087 - val_accuracy: 0.8507\n",
            "Epoch 41/50\n",
            "20/20 [==============================] - 0s 3ms/step - loss: 0.4054 - accuracy: 0.8315 - val_loss: 0.4086 - val_accuracy: 0.8507\n",
            "Epoch 42/50\n",
            "20/20 [==============================] - 0s 3ms/step - loss: 0.4054 - accuracy: 0.8315 - val_loss: 0.4086 - val_accuracy: 0.8507\n",
            "Epoch 43/50\n",
            "20/20 [==============================] - 0s 3ms/step - loss: 0.4053 - accuracy: 0.8315 - val_loss: 0.4086 - val_accuracy: 0.8507\n",
            "Epoch 44/50\n",
            "20/20 [==============================] - 0s 4ms/step - loss: 0.4053 - accuracy: 0.8315 - val_loss: 0.4086 - val_accuracy: 0.8507\n",
            "Epoch 45/50\n",
            "20/20 [==============================] - 0s 4ms/step - loss: 0.4053 - accuracy: 0.8315 - val_loss: 0.4085 - val_accuracy: 0.8507\n",
            "Epoch 46/50\n",
            "20/20 [==============================] - 0s 3ms/step - loss: 0.4052 - accuracy: 0.8315 - val_loss: 0.4085 - val_accuracy: 0.8507\n",
            "Epoch 47/50\n",
            "20/20 [==============================] - 0s 3ms/step - loss: 0.4052 - accuracy: 0.8315 - val_loss: 0.4085 - val_accuracy: 0.8507\n",
            "Epoch 48/50\n",
            "20/20 [==============================] - 0s 3ms/step - loss: 0.4052 - accuracy: 0.8315 - val_loss: 0.4085 - val_accuracy: 0.8507\n",
            "Epoch 49/50\n",
            "20/20 [==============================] - 0s 3ms/step - loss: 0.4052 - accuracy: 0.8315 - val_loss: 0.4085 - val_accuracy: 0.8507\n",
            "Epoch 50/50\n",
            "20/20 [==============================] - 0s 3ms/step - loss: 0.4052 - accuracy: 0.8315 - val_loss: 0.4085 - val_accuracy: 0.8507\n"
          ],
          "name": "stdout"
        },
        {
          "output_type": "execute_result",
          "data": {
            "text/plain": [
              "<tensorflow.python.keras.callbacks.History at 0x7fd9a3045190>"
            ]
          },
          "metadata": {
            "tags": []
          },
          "execution_count": 85
        }
      ]
    },
    {
      "cell_type": "code",
      "metadata": {
        "id": "b4m1jalZC3W2"
      },
      "source": [
        "\n",
        "p_test_prediction = test_prediction['PassengerId']"
      ],
      "execution_count": null,
      "outputs": []
    },
    {
      "cell_type": "code",
      "metadata": {
        "id": "Jbz4Y6UTNtj2"
      },
      "source": [
        "test_prediction = test_prediction.drop(['Name','Cabin','Ticket','PassengerId'],axis=1)"
      ],
      "execution_count": null,
      "outputs": []
    },
    {
      "cell_type": "code",
      "metadata": {
        "colab": {
          "base_uri": "https://localhost:8080/",
          "height": 414
        },
        "id": "EDgbWIHoNvc7",
        "outputId": "1bc720c7-3a48-46fb-bb3d-66f72a415cdb"
      },
      "source": [
        "test_prediction"
      ],
      "execution_count": null,
      "outputs": [
        {
          "output_type": "execute_result",
          "data": {
            "text/html": [
              "<div>\n",
              "<style scoped>\n",
              "    .dataframe tbody tr th:only-of-type {\n",
              "        vertical-align: middle;\n",
              "    }\n",
              "\n",
              "    .dataframe tbody tr th {\n",
              "        vertical-align: top;\n",
              "    }\n",
              "\n",
              "    .dataframe thead th {\n",
              "        text-align: right;\n",
              "    }\n",
              "</style>\n",
              "<table border=\"1\" class=\"dataframe\">\n",
              "  <thead>\n",
              "    <tr style=\"text-align: right;\">\n",
              "      <th></th>\n",
              "      <th>Pclass</th>\n",
              "      <th>Sex</th>\n",
              "      <th>Age</th>\n",
              "      <th>SibSp</th>\n",
              "      <th>Parch</th>\n",
              "      <th>Fare</th>\n",
              "      <th>Embarked</th>\n",
              "    </tr>\n",
              "  </thead>\n",
              "  <tbody>\n",
              "    <tr>\n",
              "      <th>0</th>\n",
              "      <td>3</td>\n",
              "      <td>male</td>\n",
              "      <td>34.5</td>\n",
              "      <td>0</td>\n",
              "      <td>0</td>\n",
              "      <td>7.8292</td>\n",
              "      <td>Q</td>\n",
              "    </tr>\n",
              "    <tr>\n",
              "      <th>1</th>\n",
              "      <td>3</td>\n",
              "      <td>female</td>\n",
              "      <td>47.0</td>\n",
              "      <td>1</td>\n",
              "      <td>0</td>\n",
              "      <td>7.0000</td>\n",
              "      <td>S</td>\n",
              "    </tr>\n",
              "    <tr>\n",
              "      <th>2</th>\n",
              "      <td>2</td>\n",
              "      <td>male</td>\n",
              "      <td>62.0</td>\n",
              "      <td>0</td>\n",
              "      <td>0</td>\n",
              "      <td>9.6875</td>\n",
              "      <td>Q</td>\n",
              "    </tr>\n",
              "    <tr>\n",
              "      <th>3</th>\n",
              "      <td>3</td>\n",
              "      <td>male</td>\n",
              "      <td>27.0</td>\n",
              "      <td>0</td>\n",
              "      <td>0</td>\n",
              "      <td>8.6625</td>\n",
              "      <td>S</td>\n",
              "    </tr>\n",
              "    <tr>\n",
              "      <th>4</th>\n",
              "      <td>3</td>\n",
              "      <td>female</td>\n",
              "      <td>22.0</td>\n",
              "      <td>1</td>\n",
              "      <td>1</td>\n",
              "      <td>12.2875</td>\n",
              "      <td>S</td>\n",
              "    </tr>\n",
              "    <tr>\n",
              "      <th>...</th>\n",
              "      <td>...</td>\n",
              "      <td>...</td>\n",
              "      <td>...</td>\n",
              "      <td>...</td>\n",
              "      <td>...</td>\n",
              "      <td>...</td>\n",
              "      <td>...</td>\n",
              "    </tr>\n",
              "    <tr>\n",
              "      <th>413</th>\n",
              "      <td>3</td>\n",
              "      <td>male</td>\n",
              "      <td>NaN</td>\n",
              "      <td>0</td>\n",
              "      <td>0</td>\n",
              "      <td>8.0500</td>\n",
              "      <td>S</td>\n",
              "    </tr>\n",
              "    <tr>\n",
              "      <th>414</th>\n",
              "      <td>1</td>\n",
              "      <td>female</td>\n",
              "      <td>39.0</td>\n",
              "      <td>0</td>\n",
              "      <td>0</td>\n",
              "      <td>108.9000</td>\n",
              "      <td>C</td>\n",
              "    </tr>\n",
              "    <tr>\n",
              "      <th>415</th>\n",
              "      <td>3</td>\n",
              "      <td>male</td>\n",
              "      <td>38.5</td>\n",
              "      <td>0</td>\n",
              "      <td>0</td>\n",
              "      <td>7.2500</td>\n",
              "      <td>S</td>\n",
              "    </tr>\n",
              "    <tr>\n",
              "      <th>416</th>\n",
              "      <td>3</td>\n",
              "      <td>male</td>\n",
              "      <td>NaN</td>\n",
              "      <td>0</td>\n",
              "      <td>0</td>\n",
              "      <td>8.0500</td>\n",
              "      <td>S</td>\n",
              "    </tr>\n",
              "    <tr>\n",
              "      <th>417</th>\n",
              "      <td>3</td>\n",
              "      <td>male</td>\n",
              "      <td>NaN</td>\n",
              "      <td>1</td>\n",
              "      <td>1</td>\n",
              "      <td>22.3583</td>\n",
              "      <td>C</td>\n",
              "    </tr>\n",
              "  </tbody>\n",
              "</table>\n",
              "<p>418 rows × 7 columns</p>\n",
              "</div>"
            ],
            "text/plain": [
              "     Pclass     Sex   Age  SibSp  Parch      Fare Embarked\n",
              "0         3    male  34.5      0      0    7.8292        Q\n",
              "1         3  female  47.0      1      0    7.0000        S\n",
              "2         2    male  62.0      0      0    9.6875        Q\n",
              "3         3    male  27.0      0      0    8.6625        S\n",
              "4         3  female  22.0      1      1   12.2875        S\n",
              "..      ...     ...   ...    ...    ...       ...      ...\n",
              "413       3    male   NaN      0      0    8.0500        S\n",
              "414       1  female  39.0      0      0  108.9000        C\n",
              "415       3    male  38.5      0      0    7.2500        S\n",
              "416       3    male   NaN      0      0    8.0500        S\n",
              "417       3    male   NaN      1      1   22.3583        C\n",
              "\n",
              "[418 rows x 7 columns]"
            ]
          },
          "metadata": {
            "tags": []
          },
          "execution_count": 90
        }
      ]
    },
    {
      "cell_type": "code",
      "metadata": {
        "id": "skqvPsUaOG_c"
      },
      "source": [
        "for index,row in test_prediction.iterrows():\n",
        "  if math.isnan(test_prediction.iloc[index]['Age'])==True:\n",
        "    test_prediction.at[index,'Age']=mean"
      ],
      "execution_count": null,
      "outputs": []
    },
    {
      "cell_type": "code",
      "metadata": {
        "colab": {
          "base_uri": "https://localhost:8080/",
          "height": 414
        },
        "id": "fesFcbo1OYJU",
        "outputId": "6cfe40da-5e16-4aaa-9187-20ef44fdee01"
      },
      "source": [
        "test_prediction"
      ],
      "execution_count": null,
      "outputs": [
        {
          "output_type": "execute_result",
          "data": {
            "text/html": [
              "<div>\n",
              "<style scoped>\n",
              "    .dataframe tbody tr th:only-of-type {\n",
              "        vertical-align: middle;\n",
              "    }\n",
              "\n",
              "    .dataframe tbody tr th {\n",
              "        vertical-align: top;\n",
              "    }\n",
              "\n",
              "    .dataframe thead th {\n",
              "        text-align: right;\n",
              "    }\n",
              "</style>\n",
              "<table border=\"1\" class=\"dataframe\">\n",
              "  <thead>\n",
              "    <tr style=\"text-align: right;\">\n",
              "      <th></th>\n",
              "      <th>Pclass</th>\n",
              "      <th>Sex</th>\n",
              "      <th>Age</th>\n",
              "      <th>SibSp</th>\n",
              "      <th>Parch</th>\n",
              "      <th>Fare</th>\n",
              "      <th>Embarked</th>\n",
              "    </tr>\n",
              "  </thead>\n",
              "  <tbody>\n",
              "    <tr>\n",
              "      <th>0</th>\n",
              "      <td>3</td>\n",
              "      <td>male</td>\n",
              "      <td>34.5</td>\n",
              "      <td>0</td>\n",
              "      <td>0</td>\n",
              "      <td>7.8292</td>\n",
              "      <td>Q</td>\n",
              "    </tr>\n",
              "    <tr>\n",
              "      <th>1</th>\n",
              "      <td>3</td>\n",
              "      <td>female</td>\n",
              "      <td>47.0</td>\n",
              "      <td>1</td>\n",
              "      <td>0</td>\n",
              "      <td>7.0000</td>\n",
              "      <td>S</td>\n",
              "    </tr>\n",
              "    <tr>\n",
              "      <th>2</th>\n",
              "      <td>2</td>\n",
              "      <td>male</td>\n",
              "      <td>62.0</td>\n",
              "      <td>0</td>\n",
              "      <td>0</td>\n",
              "      <td>9.6875</td>\n",
              "      <td>Q</td>\n",
              "    </tr>\n",
              "    <tr>\n",
              "      <th>3</th>\n",
              "      <td>3</td>\n",
              "      <td>male</td>\n",
              "      <td>27.0</td>\n",
              "      <td>0</td>\n",
              "      <td>0</td>\n",
              "      <td>8.6625</td>\n",
              "      <td>S</td>\n",
              "    </tr>\n",
              "    <tr>\n",
              "      <th>4</th>\n",
              "      <td>3</td>\n",
              "      <td>female</td>\n",
              "      <td>22.0</td>\n",
              "      <td>1</td>\n",
              "      <td>1</td>\n",
              "      <td>12.2875</td>\n",
              "      <td>S</td>\n",
              "    </tr>\n",
              "    <tr>\n",
              "      <th>...</th>\n",
              "      <td>...</td>\n",
              "      <td>...</td>\n",
              "      <td>...</td>\n",
              "      <td>...</td>\n",
              "      <td>...</td>\n",
              "      <td>...</td>\n",
              "      <td>...</td>\n",
              "    </tr>\n",
              "    <tr>\n",
              "      <th>413</th>\n",
              "      <td>3</td>\n",
              "      <td>male</td>\n",
              "      <td>30.0</td>\n",
              "      <td>0</td>\n",
              "      <td>0</td>\n",
              "      <td>8.0500</td>\n",
              "      <td>S</td>\n",
              "    </tr>\n",
              "    <tr>\n",
              "      <th>414</th>\n",
              "      <td>1</td>\n",
              "      <td>female</td>\n",
              "      <td>39.0</td>\n",
              "      <td>0</td>\n",
              "      <td>0</td>\n",
              "      <td>108.9000</td>\n",
              "      <td>C</td>\n",
              "    </tr>\n",
              "    <tr>\n",
              "      <th>415</th>\n",
              "      <td>3</td>\n",
              "      <td>male</td>\n",
              "      <td>38.5</td>\n",
              "      <td>0</td>\n",
              "      <td>0</td>\n",
              "      <td>7.2500</td>\n",
              "      <td>S</td>\n",
              "    </tr>\n",
              "    <tr>\n",
              "      <th>416</th>\n",
              "      <td>3</td>\n",
              "      <td>male</td>\n",
              "      <td>30.0</td>\n",
              "      <td>0</td>\n",
              "      <td>0</td>\n",
              "      <td>8.0500</td>\n",
              "      <td>S</td>\n",
              "    </tr>\n",
              "    <tr>\n",
              "      <th>417</th>\n",
              "      <td>3</td>\n",
              "      <td>male</td>\n",
              "      <td>30.0</td>\n",
              "      <td>1</td>\n",
              "      <td>1</td>\n",
              "      <td>22.3583</td>\n",
              "      <td>C</td>\n",
              "    </tr>\n",
              "  </tbody>\n",
              "</table>\n",
              "<p>418 rows × 7 columns</p>\n",
              "</div>"
            ],
            "text/plain": [
              "     Pclass     Sex   Age  SibSp  Parch      Fare Embarked\n",
              "0         3    male  34.5      0      0    7.8292        Q\n",
              "1         3  female  47.0      1      0    7.0000        S\n",
              "2         2    male  62.0      0      0    9.6875        Q\n",
              "3         3    male  27.0      0      0    8.6625        S\n",
              "4         3  female  22.0      1      1   12.2875        S\n",
              "..      ...     ...   ...    ...    ...       ...      ...\n",
              "413       3    male  30.0      0      0    8.0500        S\n",
              "414       1  female  39.0      0      0  108.9000        C\n",
              "415       3    male  38.5      0      0    7.2500        S\n",
              "416       3    male  30.0      0      0    8.0500        S\n",
              "417       3    male  30.0      1      1   22.3583        C\n",
              "\n",
              "[418 rows x 7 columns]"
            ]
          },
          "metadata": {
            "tags": []
          },
          "execution_count": 92
        }
      ]
    },
    {
      "cell_type": "code",
      "metadata": {
        "colab": {
          "base_uri": "https://localhost:8080/",
          "height": 414
        },
        "id": "KMqeC07VZSYV",
        "outputId": "165d32ff-68d1-4393-f64c-605daf8a82f1"
      },
      "source": [
        "test_prediction[:153]"
      ],
      "execution_count": null,
      "outputs": [
        {
          "output_type": "execute_result",
          "data": {
            "text/html": [
              "<div>\n",
              "<style scoped>\n",
              "    .dataframe tbody tr th:only-of-type {\n",
              "        vertical-align: middle;\n",
              "    }\n",
              "\n",
              "    .dataframe tbody tr th {\n",
              "        vertical-align: top;\n",
              "    }\n",
              "\n",
              "    .dataframe thead th {\n",
              "        text-align: right;\n",
              "    }\n",
              "</style>\n",
              "<table border=\"1\" class=\"dataframe\">\n",
              "  <thead>\n",
              "    <tr style=\"text-align: right;\">\n",
              "      <th></th>\n",
              "      <th>Pclass</th>\n",
              "      <th>Sex</th>\n",
              "      <th>Age</th>\n",
              "      <th>SibSp</th>\n",
              "      <th>Parch</th>\n",
              "      <th>Fare</th>\n",
              "      <th>Embarked</th>\n",
              "    </tr>\n",
              "  </thead>\n",
              "  <tbody>\n",
              "    <tr>\n",
              "      <th>0</th>\n",
              "      <td>3</td>\n",
              "      <td>male</td>\n",
              "      <td>34.5</td>\n",
              "      <td>0</td>\n",
              "      <td>0</td>\n",
              "      <td>7.8292</td>\n",
              "      <td>Q</td>\n",
              "    </tr>\n",
              "    <tr>\n",
              "      <th>1</th>\n",
              "      <td>3</td>\n",
              "      <td>female</td>\n",
              "      <td>47.0</td>\n",
              "      <td>1</td>\n",
              "      <td>0</td>\n",
              "      <td>7.0000</td>\n",
              "      <td>S</td>\n",
              "    </tr>\n",
              "    <tr>\n",
              "      <th>2</th>\n",
              "      <td>2</td>\n",
              "      <td>male</td>\n",
              "      <td>62.0</td>\n",
              "      <td>0</td>\n",
              "      <td>0</td>\n",
              "      <td>9.6875</td>\n",
              "      <td>Q</td>\n",
              "    </tr>\n",
              "    <tr>\n",
              "      <th>3</th>\n",
              "      <td>3</td>\n",
              "      <td>male</td>\n",
              "      <td>27.0</td>\n",
              "      <td>0</td>\n",
              "      <td>0</td>\n",
              "      <td>8.6625</td>\n",
              "      <td>S</td>\n",
              "    </tr>\n",
              "    <tr>\n",
              "      <th>4</th>\n",
              "      <td>3</td>\n",
              "      <td>female</td>\n",
              "      <td>22.0</td>\n",
              "      <td>1</td>\n",
              "      <td>1</td>\n",
              "      <td>12.2875</td>\n",
              "      <td>S</td>\n",
              "    </tr>\n",
              "    <tr>\n",
              "      <th>...</th>\n",
              "      <td>...</td>\n",
              "      <td>...</td>\n",
              "      <td>...</td>\n",
              "      <td>...</td>\n",
              "      <td>...</td>\n",
              "      <td>...</td>\n",
              "      <td>...</td>\n",
              "    </tr>\n",
              "    <tr>\n",
              "      <th>148</th>\n",
              "      <td>1</td>\n",
              "      <td>male</td>\n",
              "      <td>30.0</td>\n",
              "      <td>0</td>\n",
              "      <td>0</td>\n",
              "      <td>26.5500</td>\n",
              "      <td>S</td>\n",
              "    </tr>\n",
              "    <tr>\n",
              "      <th>149</th>\n",
              "      <td>2</td>\n",
              "      <td>male</td>\n",
              "      <td>30.0</td>\n",
              "      <td>1</td>\n",
              "      <td>1</td>\n",
              "      <td>26.0000</td>\n",
              "      <td>S</td>\n",
              "    </tr>\n",
              "    <tr>\n",
              "      <th>150</th>\n",
              "      <td>1</td>\n",
              "      <td>female</td>\n",
              "      <td>23.0</td>\n",
              "      <td>0</td>\n",
              "      <td>1</td>\n",
              "      <td>83.1583</td>\n",
              "      <td>C</td>\n",
              "    </tr>\n",
              "    <tr>\n",
              "      <th>151</th>\n",
              "      <td>3</td>\n",
              "      <td>male</td>\n",
              "      <td>30.0</td>\n",
              "      <td>0</td>\n",
              "      <td>0</td>\n",
              "      <td>7.8958</td>\n",
              "      <td>C</td>\n",
              "    </tr>\n",
              "    <tr>\n",
              "      <th>152</th>\n",
              "      <td>3</td>\n",
              "      <td>male</td>\n",
              "      <td>60.5</td>\n",
              "      <td>0</td>\n",
              "      <td>0</td>\n",
              "      <td>NaN</td>\n",
              "      <td>S</td>\n",
              "    </tr>\n",
              "  </tbody>\n",
              "</table>\n",
              "<p>153 rows × 7 columns</p>\n",
              "</div>"
            ],
            "text/plain": [
              "     Pclass     Sex   Age  SibSp  Parch     Fare Embarked\n",
              "0         3    male  34.5      0      0   7.8292        Q\n",
              "1         3  female  47.0      1      0   7.0000        S\n",
              "2         2    male  62.0      0      0   9.6875        Q\n",
              "3         3    male  27.0      0      0   8.6625        S\n",
              "4         3  female  22.0      1      1  12.2875        S\n",
              "..      ...     ...   ...    ...    ...      ...      ...\n",
              "148       1    male  30.0      0      0  26.5500        S\n",
              "149       2    male  30.0      1      1  26.0000        S\n",
              "150       1  female  23.0      0      1  83.1583        C\n",
              "151       3    male  30.0      0      0   7.8958        C\n",
              "152       3    male  60.5      0      0      NaN        S\n",
              "\n",
              "[153 rows x 7 columns]"
            ]
          },
          "metadata": {
            "tags": []
          },
          "execution_count": 93
        }
      ]
    },
    {
      "cell_type": "code",
      "metadata": {
        "id": "FU2ztfTMOZ4Q"
      },
      "source": [
        "test_prediction = pd.get_dummies(test_prediction,columns=['Sex','Embarked'])"
      ],
      "execution_count": null,
      "outputs": []
    },
    {
      "cell_type": "code",
      "metadata": {
        "id": "4ZnaSccYYdOP"
      },
      "source": [
        "test_prediction.at[152,'Fare']=26."
      ],
      "execution_count": null,
      "outputs": []
    },
    {
      "cell_type": "code",
      "metadata": {
        "colab": {
          "base_uri": "https://localhost:8080/",
          "height": 414
        },
        "id": "yw-FBSrdOkOj",
        "outputId": "ca915d5b-09f6-4788-ebe4-0cf8e2244a8c"
      },
      "source": [
        "test_prediction[:356]"
      ],
      "execution_count": null,
      "outputs": [
        {
          "output_type": "execute_result",
          "data": {
            "text/html": [
              "<div>\n",
              "<style scoped>\n",
              "    .dataframe tbody tr th:only-of-type {\n",
              "        vertical-align: middle;\n",
              "    }\n",
              "\n",
              "    .dataframe tbody tr th {\n",
              "        vertical-align: top;\n",
              "    }\n",
              "\n",
              "    .dataframe thead th {\n",
              "        text-align: right;\n",
              "    }\n",
              "</style>\n",
              "<table border=\"1\" class=\"dataframe\">\n",
              "  <thead>\n",
              "    <tr style=\"text-align: right;\">\n",
              "      <th></th>\n",
              "      <th>Pclass</th>\n",
              "      <th>Age</th>\n",
              "      <th>SibSp</th>\n",
              "      <th>Parch</th>\n",
              "      <th>Fare</th>\n",
              "      <th>Sex_female</th>\n",
              "      <th>Sex_male</th>\n",
              "      <th>Embarked_C</th>\n",
              "      <th>Embarked_Q</th>\n",
              "      <th>Embarked_S</th>\n",
              "    </tr>\n",
              "  </thead>\n",
              "  <tbody>\n",
              "    <tr>\n",
              "      <th>0</th>\n",
              "      <td>3</td>\n",
              "      <td>34.50</td>\n",
              "      <td>0</td>\n",
              "      <td>0</td>\n",
              "      <td>7.8292</td>\n",
              "      <td>0</td>\n",
              "      <td>1</td>\n",
              "      <td>0</td>\n",
              "      <td>1</td>\n",
              "      <td>0</td>\n",
              "    </tr>\n",
              "    <tr>\n",
              "      <th>1</th>\n",
              "      <td>3</td>\n",
              "      <td>47.00</td>\n",
              "      <td>1</td>\n",
              "      <td>0</td>\n",
              "      <td>7.0000</td>\n",
              "      <td>1</td>\n",
              "      <td>0</td>\n",
              "      <td>0</td>\n",
              "      <td>0</td>\n",
              "      <td>1</td>\n",
              "    </tr>\n",
              "    <tr>\n",
              "      <th>2</th>\n",
              "      <td>2</td>\n",
              "      <td>62.00</td>\n",
              "      <td>0</td>\n",
              "      <td>0</td>\n",
              "      <td>9.6875</td>\n",
              "      <td>0</td>\n",
              "      <td>1</td>\n",
              "      <td>0</td>\n",
              "      <td>1</td>\n",
              "      <td>0</td>\n",
              "    </tr>\n",
              "    <tr>\n",
              "      <th>3</th>\n",
              "      <td>3</td>\n",
              "      <td>27.00</td>\n",
              "      <td>0</td>\n",
              "      <td>0</td>\n",
              "      <td>8.6625</td>\n",
              "      <td>0</td>\n",
              "      <td>1</td>\n",
              "      <td>0</td>\n",
              "      <td>0</td>\n",
              "      <td>1</td>\n",
              "    </tr>\n",
              "    <tr>\n",
              "      <th>4</th>\n",
              "      <td>3</td>\n",
              "      <td>22.00</td>\n",
              "      <td>1</td>\n",
              "      <td>1</td>\n",
              "      <td>12.2875</td>\n",
              "      <td>1</td>\n",
              "      <td>0</td>\n",
              "      <td>0</td>\n",
              "      <td>0</td>\n",
              "      <td>1</td>\n",
              "    </tr>\n",
              "    <tr>\n",
              "      <th>...</th>\n",
              "      <td>...</td>\n",
              "      <td>...</td>\n",
              "      <td>...</td>\n",
              "      <td>...</td>\n",
              "      <td>...</td>\n",
              "      <td>...</td>\n",
              "      <td>...</td>\n",
              "      <td>...</td>\n",
              "      <td>...</td>\n",
              "      <td>...</td>\n",
              "    </tr>\n",
              "    <tr>\n",
              "      <th>351</th>\n",
              "      <td>2</td>\n",
              "      <td>25.00</td>\n",
              "      <td>0</td>\n",
              "      <td>0</td>\n",
              "      <td>10.5000</td>\n",
              "      <td>0</td>\n",
              "      <td>1</td>\n",
              "      <td>0</td>\n",
              "      <td>0</td>\n",
              "      <td>1</td>\n",
              "    </tr>\n",
              "    <tr>\n",
              "      <th>352</th>\n",
              "      <td>2</td>\n",
              "      <td>18.00</td>\n",
              "      <td>0</td>\n",
              "      <td>0</td>\n",
              "      <td>73.5000</td>\n",
              "      <td>0</td>\n",
              "      <td>1</td>\n",
              "      <td>0</td>\n",
              "      <td>0</td>\n",
              "      <td>1</td>\n",
              "    </tr>\n",
              "    <tr>\n",
              "      <th>353</th>\n",
              "      <td>2</td>\n",
              "      <td>49.00</td>\n",
              "      <td>1</td>\n",
              "      <td>2</td>\n",
              "      <td>65.0000</td>\n",
              "      <td>0</td>\n",
              "      <td>1</td>\n",
              "      <td>0</td>\n",
              "      <td>0</td>\n",
              "      <td>1</td>\n",
              "    </tr>\n",
              "    <tr>\n",
              "      <th>354</th>\n",
              "      <td>3</td>\n",
              "      <td>0.17</td>\n",
              "      <td>1</td>\n",
              "      <td>2</td>\n",
              "      <td>20.5750</td>\n",
              "      <td>1</td>\n",
              "      <td>0</td>\n",
              "      <td>0</td>\n",
              "      <td>0</td>\n",
              "      <td>1</td>\n",
              "    </tr>\n",
              "    <tr>\n",
              "      <th>355</th>\n",
              "      <td>1</td>\n",
              "      <td>50.00</td>\n",
              "      <td>0</td>\n",
              "      <td>0</td>\n",
              "      <td>26.0000</td>\n",
              "      <td>0</td>\n",
              "      <td>1</td>\n",
              "      <td>0</td>\n",
              "      <td>0</td>\n",
              "      <td>1</td>\n",
              "    </tr>\n",
              "  </tbody>\n",
              "</table>\n",
              "<p>356 rows × 10 columns</p>\n",
              "</div>"
            ],
            "text/plain": [
              "     Pclass    Age  SibSp  Parch  ...  Sex_male  Embarked_C  Embarked_Q  Embarked_S\n",
              "0         3  34.50      0      0  ...         1           0           1           0\n",
              "1         3  47.00      1      0  ...         0           0           0           1\n",
              "2         2  62.00      0      0  ...         1           0           1           0\n",
              "3         3  27.00      0      0  ...         1           0           0           1\n",
              "4         3  22.00      1      1  ...         0           0           0           1\n",
              "..      ...    ...    ...    ...  ...       ...         ...         ...         ...\n",
              "351       2  25.00      0      0  ...         1           0           0           1\n",
              "352       2  18.00      0      0  ...         1           0           0           1\n",
              "353       2  49.00      1      2  ...         1           0           0           1\n",
              "354       3   0.17      1      2  ...         0           0           0           1\n",
              "355       1  50.00      0      0  ...         1           0           0           1\n",
              "\n",
              "[356 rows x 10 columns]"
            ]
          },
          "metadata": {
            "tags": []
          },
          "execution_count": 96
        }
      ]
    },
    {
      "cell_type": "code",
      "metadata": {
        "id": "FuKMXZjdOlmp"
      },
      "source": [
        "test_prediction = np.array(test_prediction.values)"
      ],
      "execution_count": null,
      "outputs": []
    },
    {
      "cell_type": "code",
      "metadata": {
        "colab": {
          "base_uri": "https://localhost:8080/"
        },
        "id": "47GT56mDQxtQ",
        "outputId": "41782868-18fe-46c9-d4e9-2d3b41e63088"
      },
      "source": [
        "test_prediction[:356]"
      ],
      "execution_count": null,
      "outputs": [
        {
          "output_type": "execute_result",
          "data": {
            "text/plain": [
              "array([[ 3.  , 34.5 ,  0.  , ...,  0.  ,  1.  ,  0.  ],\n",
              "       [ 3.  , 47.  ,  1.  , ...,  0.  ,  0.  ,  1.  ],\n",
              "       [ 2.  , 62.  ,  0.  , ...,  0.  ,  1.  ,  0.  ],\n",
              "       ...,\n",
              "       [ 2.  , 49.  ,  1.  , ...,  0.  ,  0.  ,  1.  ],\n",
              "       [ 3.  ,  0.17,  1.  , ...,  0.  ,  0.  ,  1.  ],\n",
              "       [ 1.  , 50.  ,  0.  , ...,  0.  ,  0.  ,  1.  ]])"
            ]
          },
          "metadata": {
            "tags": []
          },
          "execution_count": 98
        }
      ]
    },
    {
      "cell_type": "code",
      "metadata": {
        "id": "5ZD4ctPaOze-"
      },
      "source": [
        "test_prediction[:,1]= test_prediction[:,1]/age_div"
      ],
      "execution_count": null,
      "outputs": []
    },
    {
      "cell_type": "code",
      "metadata": {
        "colab": {
          "base_uri": "https://localhost:8080/"
        },
        "id": "YKxgVDdoQ9km",
        "outputId": "0f82416a-2fbd-43dc-e424-014808def5a1"
      },
      "source": [
        "test_prediction[:50]"
      ],
      "execution_count": null,
      "outputs": [
        {
          "output_type": "execute_result",
          "data": {
            "text/plain": [
              "array([[3.00000e+00, 4.31250e-01, 0.00000e+00, 0.00000e+00, 7.82920e+00,\n",
              "        0.00000e+00, 1.00000e+00, 0.00000e+00, 1.00000e+00, 0.00000e+00],\n",
              "       [3.00000e+00, 5.87500e-01, 1.00000e+00, 0.00000e+00, 7.00000e+00,\n",
              "        1.00000e+00, 0.00000e+00, 0.00000e+00, 0.00000e+00, 1.00000e+00],\n",
              "       [2.00000e+00, 7.75000e-01, 0.00000e+00, 0.00000e+00, 9.68750e+00,\n",
              "        0.00000e+00, 1.00000e+00, 0.00000e+00, 1.00000e+00, 0.00000e+00],\n",
              "       [3.00000e+00, 3.37500e-01, 0.00000e+00, 0.00000e+00, 8.66250e+00,\n",
              "        0.00000e+00, 1.00000e+00, 0.00000e+00, 0.00000e+00, 1.00000e+00],\n",
              "       [3.00000e+00, 2.75000e-01, 1.00000e+00, 1.00000e+00, 1.22875e+01,\n",
              "        1.00000e+00, 0.00000e+00, 0.00000e+00, 0.00000e+00, 1.00000e+00],\n",
              "       [3.00000e+00, 1.75000e-01, 0.00000e+00, 0.00000e+00, 9.22500e+00,\n",
              "        0.00000e+00, 1.00000e+00, 0.00000e+00, 0.00000e+00, 1.00000e+00],\n",
              "       [3.00000e+00, 3.75000e-01, 0.00000e+00, 0.00000e+00, 7.62920e+00,\n",
              "        1.00000e+00, 0.00000e+00, 0.00000e+00, 1.00000e+00, 0.00000e+00],\n",
              "       [2.00000e+00, 3.25000e-01, 1.00000e+00, 1.00000e+00, 2.90000e+01,\n",
              "        0.00000e+00, 1.00000e+00, 0.00000e+00, 0.00000e+00, 1.00000e+00],\n",
              "       [3.00000e+00, 2.25000e-01, 0.00000e+00, 0.00000e+00, 7.22920e+00,\n",
              "        1.00000e+00, 0.00000e+00, 1.00000e+00, 0.00000e+00, 0.00000e+00],\n",
              "       [3.00000e+00, 2.62500e-01, 2.00000e+00, 0.00000e+00, 2.41500e+01,\n",
              "        0.00000e+00, 1.00000e+00, 0.00000e+00, 0.00000e+00, 1.00000e+00],\n",
              "       [3.00000e+00, 3.75000e-01, 0.00000e+00, 0.00000e+00, 7.89580e+00,\n",
              "        0.00000e+00, 1.00000e+00, 0.00000e+00, 0.00000e+00, 1.00000e+00],\n",
              "       [1.00000e+00, 5.75000e-01, 0.00000e+00, 0.00000e+00, 2.60000e+01,\n",
              "        0.00000e+00, 1.00000e+00, 0.00000e+00, 0.00000e+00, 1.00000e+00],\n",
              "       [1.00000e+00, 2.87500e-01, 1.00000e+00, 0.00000e+00, 8.22667e+01,\n",
              "        1.00000e+00, 0.00000e+00, 0.00000e+00, 0.00000e+00, 1.00000e+00],\n",
              "       [2.00000e+00, 7.87500e-01, 1.00000e+00, 0.00000e+00, 2.60000e+01,\n",
              "        0.00000e+00, 1.00000e+00, 0.00000e+00, 0.00000e+00, 1.00000e+00],\n",
              "       [1.00000e+00, 5.87500e-01, 1.00000e+00, 0.00000e+00, 6.11750e+01,\n",
              "        1.00000e+00, 0.00000e+00, 0.00000e+00, 0.00000e+00, 1.00000e+00],\n",
              "       [2.00000e+00, 3.00000e-01, 1.00000e+00, 0.00000e+00, 2.77208e+01,\n",
              "        1.00000e+00, 0.00000e+00, 1.00000e+00, 0.00000e+00, 0.00000e+00],\n",
              "       [2.00000e+00, 4.37500e-01, 0.00000e+00, 0.00000e+00, 1.23500e+01,\n",
              "        0.00000e+00, 1.00000e+00, 0.00000e+00, 1.00000e+00, 0.00000e+00],\n",
              "       [3.00000e+00, 2.62500e-01, 0.00000e+00, 0.00000e+00, 7.22500e+00,\n",
              "        0.00000e+00, 1.00000e+00, 1.00000e+00, 0.00000e+00, 0.00000e+00],\n",
              "       [3.00000e+00, 3.37500e-01, 1.00000e+00, 0.00000e+00, 7.92500e+00,\n",
              "        1.00000e+00, 0.00000e+00, 0.00000e+00, 0.00000e+00, 1.00000e+00],\n",
              "       [3.00000e+00, 5.62500e-01, 0.00000e+00, 0.00000e+00, 7.22500e+00,\n",
              "        1.00000e+00, 0.00000e+00, 1.00000e+00, 0.00000e+00, 0.00000e+00],\n",
              "       [1.00000e+00, 6.87500e-01, 1.00000e+00, 0.00000e+00, 5.94000e+01,\n",
              "        0.00000e+00, 1.00000e+00, 1.00000e+00, 0.00000e+00, 0.00000e+00],\n",
              "       [3.00000e+00, 1.12500e-01, 0.00000e+00, 1.00000e+00, 3.17080e+00,\n",
              "        0.00000e+00, 1.00000e+00, 0.00000e+00, 0.00000e+00, 1.00000e+00],\n",
              "       [1.00000e+00, 3.75000e-01, 0.00000e+00, 0.00000e+00, 3.16833e+01,\n",
              "        1.00000e+00, 0.00000e+00, 0.00000e+00, 0.00000e+00, 1.00000e+00],\n",
              "       [1.00000e+00, 2.62500e-01, 0.00000e+00, 1.00000e+00, 6.13792e+01,\n",
              "        0.00000e+00, 1.00000e+00, 1.00000e+00, 0.00000e+00, 0.00000e+00],\n",
              "       [1.00000e+00, 6.00000e-01, 1.00000e+00, 3.00000e+00, 2.62375e+02,\n",
              "        1.00000e+00, 0.00000e+00, 1.00000e+00, 0.00000e+00, 0.00000e+00],\n",
              "       [3.00000e+00, 6.25000e-01, 1.00000e+00, 0.00000e+00, 1.45000e+01,\n",
              "        0.00000e+00, 1.00000e+00, 0.00000e+00, 0.00000e+00, 1.00000e+00],\n",
              "       [1.00000e+00, 2.75000e-01, 0.00000e+00, 1.00000e+00, 6.19792e+01,\n",
              "        1.00000e+00, 0.00000e+00, 1.00000e+00, 0.00000e+00, 0.00000e+00],\n",
              "       [3.00000e+00, 2.81250e-01, 0.00000e+00, 0.00000e+00, 7.22500e+00,\n",
              "        0.00000e+00, 1.00000e+00, 1.00000e+00, 0.00000e+00, 0.00000e+00],\n",
              "       [1.00000e+00, 5.12500e-01, 0.00000e+00, 0.00000e+00, 3.05000e+01,\n",
              "        0.00000e+00, 1.00000e+00, 0.00000e+00, 0.00000e+00, 1.00000e+00],\n",
              "       [3.00000e+00, 3.75000e-01, 2.00000e+00, 0.00000e+00, 2.16792e+01,\n",
              "        0.00000e+00, 1.00000e+00, 1.00000e+00, 0.00000e+00, 0.00000e+00],\n",
              "       [2.00000e+00, 6.25000e-01, 1.00000e+00, 0.00000e+00, 2.60000e+01,\n",
              "        0.00000e+00, 1.00000e+00, 0.00000e+00, 0.00000e+00, 1.00000e+00],\n",
              "       [2.00000e+00, 3.00000e-01, 2.00000e+00, 0.00000e+00, 3.15000e+01,\n",
              "        0.00000e+00, 1.00000e+00, 0.00000e+00, 0.00000e+00, 1.00000e+00],\n",
              "       [3.00000e+00, 4.12500e-01, 1.00000e+00, 2.00000e+00, 2.05750e+01,\n",
              "        1.00000e+00, 0.00000e+00, 0.00000e+00, 0.00000e+00, 1.00000e+00],\n",
              "       [3.00000e+00, 3.75000e-01, 1.00000e+00, 2.00000e+00, 2.34500e+01,\n",
              "        1.00000e+00, 0.00000e+00, 0.00000e+00, 0.00000e+00, 1.00000e+00],\n",
              "       [1.00000e+00, 3.75000e-01, 1.00000e+00, 0.00000e+00, 5.77500e+01,\n",
              "        0.00000e+00, 1.00000e+00, 1.00000e+00, 0.00000e+00, 0.00000e+00],\n",
              "       [3.00000e+00, 2.31250e-01, 0.00000e+00, 0.00000e+00, 7.22920e+00,\n",
              "        0.00000e+00, 1.00000e+00, 1.00000e+00, 0.00000e+00, 0.00000e+00],\n",
              "       [3.00000e+00, 3.75000e-01, 0.00000e+00, 0.00000e+00, 8.05000e+00,\n",
              "        1.00000e+00, 0.00000e+00, 0.00000e+00, 0.00000e+00, 1.00000e+00],\n",
              "       [3.00000e+00, 2.62500e-01, 0.00000e+00, 0.00000e+00, 8.66250e+00,\n",
              "        1.00000e+00, 0.00000e+00, 0.00000e+00, 0.00000e+00, 1.00000e+00],\n",
              "       [3.00000e+00, 3.12500e-01, 0.00000e+00, 0.00000e+00, 9.50000e+00,\n",
              "        0.00000e+00, 1.00000e+00, 0.00000e+00, 0.00000e+00, 1.00000e+00],\n",
              "       [3.00000e+00, 3.75000e-01, 0.00000e+00, 0.00000e+00, 5.64958e+01,\n",
              "        0.00000e+00, 1.00000e+00, 0.00000e+00, 0.00000e+00, 1.00000e+00],\n",
              "       [3.00000e+00, 4.87500e-01, 0.00000e+00, 1.00000e+00, 1.34167e+01,\n",
              "        0.00000e+00, 1.00000e+00, 1.00000e+00, 0.00000e+00, 0.00000e+00],\n",
              "       [1.00000e+00, 3.75000e-01, 0.00000e+00, 0.00000e+00, 2.65500e+01,\n",
              "        0.00000e+00, 1.00000e+00, 0.00000e+00, 0.00000e+00, 1.00000e+00],\n",
              "       [3.00000e+00, 5.12500e-01, 0.00000e+00, 0.00000e+00, 7.85000e+00,\n",
              "        0.00000e+00, 1.00000e+00, 0.00000e+00, 0.00000e+00, 1.00000e+00],\n",
              "       [2.00000e+00, 3.75000e-01, 0.00000e+00, 0.00000e+00, 1.30000e+01,\n",
              "        1.00000e+00, 0.00000e+00, 0.00000e+00, 0.00000e+00, 1.00000e+00],\n",
              "       [1.00000e+00, 5.62500e-01, 1.00000e+00, 0.00000e+00, 5.25542e+01,\n",
              "        1.00000e+00, 0.00000e+00, 0.00000e+00, 0.00000e+00, 1.00000e+00],\n",
              "       [3.00000e+00, 3.12500e-01, 0.00000e+00, 0.00000e+00, 7.92500e+00,\n",
              "        0.00000e+00, 1.00000e+00, 0.00000e+00, 0.00000e+00, 1.00000e+00],\n",
              "       [1.00000e+00, 5.62500e-01, 0.00000e+00, 0.00000e+00, 2.97000e+01,\n",
              "        0.00000e+00, 1.00000e+00, 1.00000e+00, 0.00000e+00, 0.00000e+00],\n",
              "       [3.00000e+00, 3.75000e-01, 0.00000e+00, 0.00000e+00, 7.75000e+00,\n",
              "        0.00000e+00, 1.00000e+00, 0.00000e+00, 1.00000e+00, 0.00000e+00],\n",
              "       [1.00000e+00, 7.50000e-01, 0.00000e+00, 0.00000e+00, 7.62917e+01,\n",
              "        1.00000e+00, 0.00000e+00, 1.00000e+00, 0.00000e+00, 0.00000e+00],\n",
              "       [3.00000e+00, 4.50000e-01, 0.00000e+00, 2.00000e+00, 1.59000e+01,\n",
              "        1.00000e+00, 0.00000e+00, 0.00000e+00, 0.00000e+00, 1.00000e+00]])"
            ]
          },
          "metadata": {
            "tags": []
          },
          "execution_count": 100
        }
      ]
    },
    {
      "cell_type": "code",
      "metadata": {
        "colab": {
          "base_uri": "https://localhost:8080/"
        },
        "id": "rUNu3tQcXuMT",
        "outputId": "304a9229-845a-45ba-e907-c6a11f09070f"
      },
      "source": [
        "np.argmin(test_prediction[:,1])"
      ],
      "execution_count": null,
      "outputs": [
        {
          "output_type": "execute_result",
          "data": {
            "text/plain": [
              "354"
            ]
          },
          "metadata": {
            "tags": []
          },
          "execution_count": 101
        }
      ]
    },
    {
      "cell_type": "code",
      "metadata": {
        "colab": {
          "base_uri": "https://localhost:8080/"
        },
        "id": "Ys5d4NO9XdWK",
        "outputId": "744eb58d-0ba5-478c-e3c2-420d5381bf1e"
      },
      "source": [
        "np.amin(test_prediction[:,1])"
      ],
      "execution_count": null,
      "outputs": [
        {
          "output_type": "execute_result",
          "data": {
            "text/plain": [
              "0.002125"
            ]
          },
          "metadata": {
            "tags": []
          },
          "execution_count": 102
        }
      ]
    },
    {
      "cell_type": "code",
      "metadata": {
        "id": "pqVE_Iu-PbMw"
      },
      "source": [
        "test_prediction[:,4] = test_prediction[:,4]/fare_div"
      ],
      "execution_count": null,
      "outputs": []
    },
    {
      "cell_type": "code",
      "metadata": {
        "colab": {
          "base_uri": "https://localhost:8080/"
        },
        "id": "Eke2Zgh9PytW",
        "outputId": "ea2bc4a2-49bc-4766-e7be-56913e750806"
      },
      "source": [
        "test_prediction[:50]"
      ],
      "execution_count": null,
      "outputs": [
        {
          "output_type": "execute_result",
          "data": {
            "text/plain": [
              "array([[3.        , 0.43125   , 0.        , 0.        , 0.01528158,\n",
              "        0.        , 1.        , 0.        , 1.        , 0.        ],\n",
              "       [3.        , 0.5875    , 1.        , 0.        , 0.01366309,\n",
              "        1.        , 0.        , 0.        , 0.        , 1.        ],\n",
              "       [2.        , 0.775     , 0.        , 0.        , 0.01890874,\n",
              "        0.        , 1.        , 0.        , 1.        , 0.        ],\n",
              "       [3.        , 0.3375    , 0.        , 0.        , 0.01690807,\n",
              "        0.        , 1.        , 0.        , 0.        , 1.        ],\n",
              "       [3.        , 0.275     , 1.        , 1.        , 0.0239836 ,\n",
              "        1.        , 0.        , 0.        , 0.        , 1.        ],\n",
              "       [3.        , 0.175     , 0.        , 0.        , 0.018006  ,\n",
              "        0.        , 1.        , 0.        , 0.        , 1.        ],\n",
              "       [3.        , 0.375     , 0.        , 0.        , 0.01489121,\n",
              "        1.        , 0.        , 0.        , 1.        , 0.        ],\n",
              "       [2.        , 0.325     , 1.        , 1.        , 0.05660423,\n",
              "        0.        , 1.        , 0.        , 0.        , 1.        ],\n",
              "       [3.        , 0.225     , 0.        , 0.        , 0.01411046,\n",
              "        1.        , 0.        , 1.        , 0.        , 0.        ],\n",
              "       [3.        , 0.2625    , 2.        , 0.        , 0.04713766,\n",
              "        0.        , 1.        , 0.        , 0.        , 1.        ],\n",
              "       [3.        , 0.375     , 0.        , 0.        , 0.01541158,\n",
              "        0.        , 1.        , 0.        , 0.        , 1.        ],\n",
              "       [1.        , 0.575     , 0.        , 0.        , 0.05074862,\n",
              "        0.        , 1.        , 0.        , 0.        , 1.        ],\n",
              "       [1.        , 0.2875    , 1.        , 0.        , 0.1605739 ,\n",
              "        1.        , 0.        , 0.        , 0.        , 1.        ],\n",
              "       [2.        , 0.7875    , 1.        , 0.        , 0.05074862,\n",
              "        0.        , 1.        , 0.        , 0.        , 1.        ],\n",
              "       [1.        , 0.5875    , 1.        , 0.        , 0.11940565,\n",
              "        1.        , 0.        , 0.        , 0.        , 1.        ],\n",
              "       [2.        , 0.3       , 1.        , 0.        , 0.0541074 ,\n",
              "        1.        , 0.        , 1.        , 0.        , 0.        ],\n",
              "       [2.        , 0.4375    , 0.        , 0.        , 0.02410559,\n",
              "        0.        , 1.        , 0.        , 1.        , 0.        ],\n",
              "       [3.        , 0.2625    , 0.        , 0.        , 0.01410226,\n",
              "        0.        , 1.        , 1.        , 0.        , 0.        ],\n",
              "       [3.        , 0.3375    , 1.        , 0.        , 0.01546857,\n",
              "        1.        , 0.        , 0.        , 0.        , 1.        ],\n",
              "       [3.        , 0.5625    , 0.        , 0.        , 0.01410226,\n",
              "        1.        , 0.        , 1.        , 0.        , 0.        ],\n",
              "       [1.        , 0.6875    , 1.        , 0.        , 0.11594108,\n",
              "        0.        , 1.        , 1.        , 0.        , 0.        ],\n",
              "       [3.        , 0.1125    , 0.        , 1.        , 0.00618899,\n",
              "        0.        , 1.        , 0.        , 0.        , 1.        ],\n",
              "       [1.        , 0.375     , 0.        , 0.        , 0.06184168,\n",
              "        1.        , 0.        , 0.        , 0.        , 1.        ],\n",
              "       [1.        , 0.2625    , 0.        , 1.        , 0.11980422,\n",
              "        0.        , 1.        , 1.        , 0.        , 0.        ],\n",
              "       [1.        , 0.6       , 1.        , 3.        , 0.51212189,\n",
              "        1.        , 0.        , 1.        , 0.        , 0.        ],\n",
              "       [3.        , 0.625     , 1.        , 0.        , 0.02830212,\n",
              "        0.        , 1.        , 0.        , 0.        , 1.        ],\n",
              "       [1.        , 0.275     , 0.        , 1.        , 0.12097534,\n",
              "        1.        , 0.        , 1.        , 0.        , 0.        ],\n",
              "       [3.        , 0.28125   , 0.        , 0.        , 0.01410226,\n",
              "        0.        , 1.        , 1.        , 0.        , 0.        ],\n",
              "       [1.        , 0.5125    , 0.        , 0.        , 0.05953204,\n",
              "        0.        , 1.        , 0.        , 0.        , 1.        ],\n",
              "       [3.        , 0.375     , 2.        , 0.        , 0.04231498,\n",
              "        0.        , 1.        , 1.        , 0.        , 0.        ],\n",
              "       [2.        , 0.625     , 1.        , 0.        , 0.05074862,\n",
              "        0.        , 1.        , 0.        , 0.        , 1.        ],\n",
              "       [2.        , 0.3       , 2.        , 0.        , 0.06148391,\n",
              "        0.        , 1.        , 0.        , 0.        , 1.        ],\n",
              "       [3.        , 0.4125    , 1.        , 2.        , 0.04015973,\n",
              "        1.        , 0.        , 0.        , 0.        , 1.        ],\n",
              "       [3.        , 0.375     , 1.        , 2.        , 0.04577135,\n",
              "        1.        , 0.        , 0.        , 0.        , 1.        ],\n",
              "       [1.        , 0.375     , 1.        , 0.        , 0.11272049,\n",
              "        0.        , 1.        , 1.        , 0.        , 0.        ],\n",
              "       [3.        , 0.23125   , 0.        , 0.        , 0.01411046,\n",
              "        0.        , 1.        , 1.        , 0.        , 0.        ],\n",
              "       [3.        , 0.375     , 0.        , 0.        , 0.01571255,\n",
              "        1.        , 0.        , 0.        , 0.        , 1.        ],\n",
              "       [3.        , 0.2625    , 0.        , 0.        , 0.01690807,\n",
              "        1.        , 0.        , 0.        , 0.        , 1.        ],\n",
              "       [3.        , 0.3125    , 0.        , 0.        , 0.01854277,\n",
              "        0.        , 1.        , 0.        , 0.        , 1.        ],\n",
              "       [3.        , 0.375     , 0.        , 0.        , 0.11027246,\n",
              "        0.        , 1.        , 0.        , 0.        , 1.        ],\n",
              "       [3.        , 0.4875    , 0.        , 1.        , 0.02618765,\n",
              "        0.        , 1.        , 1.        , 0.        , 0.        ],\n",
              "       [1.        , 0.375     , 0.        , 0.        , 0.05182215,\n",
              "        0.        , 1.        , 0.        , 0.        , 1.        ],\n",
              "       [3.        , 0.5125    , 0.        , 0.        , 0.01532218,\n",
              "        0.        , 1.        , 0.        , 0.        , 1.        ],\n",
              "       [2.        , 0.375     , 0.        , 0.        , 0.02537431,\n",
              "        1.        , 0.        , 0.        , 0.        , 1.        ],\n",
              "       [1.        , 0.5625    , 1.        , 0.        , 0.10257897,\n",
              "        1.        , 0.        , 0.        , 0.        , 1.        ],\n",
              "       [3.        , 0.3125    , 0.        , 0.        , 0.01546857,\n",
              "        0.        , 1.        , 0.        , 0.        , 1.        ],\n",
              "       [1.        , 0.5625    , 0.        , 0.        , 0.05797054,\n",
              "        0.        , 1.        , 1.        , 0.        , 0.        ],\n",
              "       [3.        , 0.375     , 0.        , 0.        , 0.01512699,\n",
              "        0.        , 1.        , 0.        , 1.        , 0.        ],\n",
              "       [1.        , 0.75      , 0.        , 0.        , 0.14891148,\n",
              "        1.        , 0.        , 1.        , 0.        , 0.        ],\n",
              "       [3.        , 0.45      , 0.        , 2.        , 0.03103473,\n",
              "        1.        , 0.        , 0.        , 0.        , 1.        ]])"
            ]
          },
          "metadata": {
            "tags": []
          },
          "execution_count": 104
        }
      ]
    },
    {
      "cell_type": "code",
      "metadata": {
        "id": "K8Vm2S1LPm6f"
      },
      "source": [
        "predictions = model_2.predict(test_prediction)"
      ],
      "execution_count": null,
      "outputs": []
    },
    {
      "cell_type": "code",
      "metadata": {
        "colab": {
          "base_uri": "https://localhost:8080/"
        },
        "id": "szSe0Cy4Pt_G",
        "outputId": "fce7781a-33ae-46d2-ac06-5ef920c8bc5f"
      },
      "source": [
        "predictions"
      ],
      "execution_count": null,
      "outputs": [
        {
          "output_type": "execute_result",
          "data": {
            "text/plain": [
              "array([[0.38433275],\n",
              "       [0.41015953],\n",
              "       [0.4062126 ],\n",
              "       [0.39883405],\n",
              "       [0.43865764],\n",
              "       [0.41060305],\n",
              "       [0.41547152],\n",
              "       [0.4570483 ],\n",
              "       [0.42201775],\n",
              "       [0.36272234],\n",
              "       [0.39605644],\n",
              "       [0.45738968],\n",
              "       [0.46699116],\n",
              "       [0.38533142],\n",
              "       [0.4469032 ],\n",
              "       [0.41289812],\n",
              "       [0.41117147],\n",
              "       [0.38684773],\n",
              "       [0.41664714],\n",
              "       [0.41099006],\n",
              "       [0.39069813],\n",
              "       [0.44553122],\n",
              "       [0.5066739 ],\n",
              "       [0.44792837],\n",
              "       [0.44905797],\n",
              "       [0.37080875],\n",
              "       [0.47670037],\n",
              "       [0.3861403 ],\n",
              "       [0.4608003 ],\n",
              "       [0.33400017],\n",
              "       [0.39413252],\n",
              "       [0.36978972],\n",
              "       [0.46624368],\n",
              "       [0.4682461 ],\n",
              "       [0.40224898],\n",
              "       [0.3880279 ],\n",
              "       [0.44212794],\n",
              "       [0.44898194],\n",
              "       [0.40070105],\n",
              "       [0.40018862],\n",
              "       [0.38947898],\n",
              "       [0.46692324],\n",
              "       [0.39106724],\n",
              "       [0.46783108],\n",
              "       [0.44790882],\n",
              "       [0.40056762],\n",
              "       [0.43576494],\n",
              "       [0.38639292],\n",
              "       [0.45439193],\n",
              "       [0.46479595],\n",
              "       [0.4207471 ],\n",
              "       [0.41677472],\n",
              "       [0.44043478],\n",
              "       [0.4369475 ],\n",
              "       [0.41535982],\n",
              "       [0.28894466],\n",
              "       [0.39369512],\n",
              "       [0.40054432],\n",
              "       [0.38714626],\n",
              "       [0.47256243],\n",
              "       [0.4077753 ],\n",
              "       [0.44125727],\n",
              "       [0.4068594 ],\n",
              "       [0.41943276],\n",
              "       [0.46056536],\n",
              "       [0.4683939 ],\n",
              "       [0.4214625 ],\n",
              "       [0.45774922],\n",
              "       [0.44085312],\n",
              "       [0.4629087 ],\n",
              "       [0.41842547],\n",
              "       [0.40416506],\n",
              "       [0.4428633 ],\n",
              "       [0.4416266 ],\n",
              "       [0.47011188],\n",
              "       [0.4435812 ],\n",
              "       [0.39607248],\n",
              "       [0.40642607],\n",
              "       [0.44306004],\n",
              "       [0.41842547],\n",
              "       [0.3966057 ],\n",
              "       [0.410012  ],\n",
              "       [0.4555076 ],\n",
              "       [0.39605644],\n",
              "       [0.41343188],\n",
              "       [0.37031257],\n",
              "       [0.41692165],\n",
              "       [0.4514901 ],\n",
              "       [0.41547823],\n",
              "       [0.47195733],\n",
              "       [0.4184584 ],\n",
              "       [0.39604387],\n",
              "       [0.48887128],\n",
              "       [0.39607248],\n",
              "       [0.4426956 ],\n",
              "       [0.40055668],\n",
              "       [0.42672747],\n",
              "       [0.3969784 ],\n",
              "       [0.44979882],\n",
              "       [0.39457634],\n",
              "       [0.42844948],\n",
              "       [0.40986997],\n",
              "       [0.38639292],\n",
              "       [0.39965662],\n",
              "       [0.42082405],\n",
              "       [0.39910924],\n",
              "       [0.3905372 ],\n",
              "       [0.38639292],\n",
              "       [0.39614144],\n",
              "       [0.45370498],\n",
              "       [0.4100017 ],\n",
              "       [0.41547987],\n",
              "       [0.45800477],\n",
              "       [0.42117164],\n",
              "       [0.44036853],\n",
              "       [0.3762796 ],\n",
              "       [0.38260967],\n",
              "       [0.45517606],\n",
              "       [0.4403438 ],\n",
              "       [0.42954272],\n",
              "       [0.481802  ],\n",
              "       [0.3780864 ],\n",
              "       [0.43212518],\n",
              "       [0.39781767],\n",
              "       [0.38639292],\n",
              "       [0.4879334 ],\n",
              "       [0.40325558],\n",
              "       [0.36700422],\n",
              "       [0.43200785],\n",
              "       [0.40147722],\n",
              "       [0.39501503],\n",
              "       [0.43164042],\n",
              "       [0.42042887],\n",
              "       [0.37016624],\n",
              "       [0.39019436],\n",
              "       [0.40146062],\n",
              "       [0.38425612],\n",
              "       [0.4467572 ],\n",
              "       [0.44730508],\n",
              "       [0.32779926],\n",
              "       [0.3115949 ],\n",
              "       [0.5072173 ],\n",
              "       [0.45796376],\n",
              "       [0.44604072],\n",
              "       [0.45993415],\n",
              "       [0.28331694],\n",
              "       [0.46836624],\n",
              "       [0.4032772 ],\n",
              "       [0.46692324],\n",
              "       [0.4545995 ],\n",
              "       [0.47808895],\n",
              "       [0.38261083],\n",
              "       [0.3830756 ],\n",
              "       [0.4651769 ],\n",
              "       [0.3475839 ],\n",
              "       [0.40143484],\n",
              "       [0.50764036],\n",
              "       [0.4472996 ],\n",
              "       [0.45993415],\n",
              "       [0.46779042],\n",
              "       [0.4154773 ],\n",
              "       [0.39612743],\n",
              "       [0.47079676],\n",
              "       [0.3959632 ],\n",
              "       [0.43292648],\n",
              "       [0.4360932 ],\n",
              "       [0.43481705],\n",
              "       [0.45046392],\n",
              "       [0.46123433],\n",
              "       [0.44814944],\n",
              "       [0.39602047],\n",
              "       [0.38402084],\n",
              "       [0.39190486],\n",
              "       [0.3826103 ],\n",
              "       [0.3764818 ],\n",
              "       [0.4912308 ],\n",
              "       [0.47683483],\n",
              "       [0.39111498],\n",
              "       [0.47041535],\n",
              "       [0.49076894],\n",
              "       [0.44306004],\n",
              "       [0.4366569 ],\n",
              "       [0.4710262 ],\n",
              "       [0.38639292],\n",
              "       [0.46930087],\n",
              "       [0.43410546],\n",
              "       [0.5069675 ],\n",
              "       [0.364632  ],\n",
              "       [0.1449067 ],\n",
              "       [0.43384552],\n",
              "       [0.40505913],\n",
              "       [0.46689188],\n",
              "       [0.440258  ],\n",
              "       [0.40620306],\n",
              "       [0.44839638],\n",
              "       [0.39457086],\n",
              "       [0.45400277],\n",
              "       [0.45148152],\n",
              "       [0.44931576],\n",
              "       [0.44212967],\n",
              "       [0.4159094 ],\n",
              "       [0.44850916],\n",
              "       [0.39859408],\n",
              "       [0.48117256],\n",
              "       [0.44746438],\n",
              "       [0.44110075],\n",
              "       [0.41322938],\n",
              "       [0.4483899 ],\n",
              "       [0.45950687],\n",
              "       [0.40056515],\n",
              "       [0.3955245 ],\n",
              "       [0.3959684 ],\n",
              "       [0.45946965],\n",
              "       [0.41626114],\n",
              "       [0.3686849 ],\n",
              "       [0.46089512],\n",
              "       [0.4154854 ],\n",
              "       [0.45508024],\n",
              "       [0.46067426],\n",
              "       [0.39607248],\n",
              "       [0.409332  ],\n",
              "       [0.40417814],\n",
              "       [0.47351795],\n",
              "       [0.40415657],\n",
              "       [0.4532694 ],\n",
              "       [0.45184502],\n",
              "       [0.4023553 ],\n",
              "       [0.41547823],\n",
              "       [0.39148748],\n",
              "       [0.4375262 ],\n",
              "       [0.46096933],\n",
              "       [0.512715  ],\n",
              "       [0.3928784 ],\n",
              "       [0.38639954],\n",
              "       [0.39890268],\n",
              "       [0.40506312],\n",
              "       [0.38655925],\n",
              "       [0.38731962],\n",
              "       [0.4708606 ],\n",
              "       [0.42780975],\n",
              "       [0.45314777],\n",
              "       [0.48747897],\n",
              "       [0.43415326],\n",
              "       [0.39605558],\n",
              "       [0.450213  ],\n",
              "       [0.41601896],\n",
              "       [0.47425765],\n",
              "       [0.44814435],\n",
              "       [0.42954272],\n",
              "       [0.3920985 ],\n",
              "       [0.5067015 ],\n",
              "       [0.40506914],\n",
              "       [0.40576917],\n",
              "       [0.40158528],\n",
              "       [0.3948361 ],\n",
              "       [0.39602044],\n",
              "       [0.38639292],\n",
              "       [0.39788526],\n",
              "       [0.47589466],\n",
              "       [0.4041548 ],\n",
              "       [0.38193008],\n",
              "       [0.4041615 ],\n",
              "       [0.49034023],\n",
              "       [0.45503464],\n",
              "       [0.4153341 ],\n",
              "       [0.39605644],\n",
              "       [0.46541026],\n",
              "       [0.39602047],\n",
              "       [0.44212794],\n",
              "       [0.4078406 ],\n",
              "       [0.43623132],\n",
              "       [0.38639292],\n",
              "       [0.4428624 ],\n",
              "       [0.399039  ],\n",
              "       [0.38261026],\n",
              "       [0.4361102 ],\n",
              "       [0.44469005],\n",
              "       [0.40094998],\n",
              "       [0.4074716 ],\n",
              "       [0.45024198],\n",
              "       [0.44732222],\n",
              "       [0.4500839 ],\n",
              "       [0.41547823],\n",
              "       [0.42390856],\n",
              "       [0.45444208],\n",
              "       [0.39323893],\n",
              "       [0.39598924],\n",
              "       [0.4208941 ],\n",
              "       [0.3826103 ],\n",
              "       [0.39607248],\n",
              "       [0.4676671 ],\n",
              "       [0.41543373],\n",
              "       [0.3826103 ],\n",
              "       [0.45380828],\n",
              "       [0.3933016 ],\n",
              "       [0.39966685],\n",
              "       [0.4613331 ],\n",
              "       [0.33400017],\n",
              "       [0.46800345],\n",
              "       [0.39697242],\n",
              "       [0.39500737],\n",
              "       [0.415355  ],\n",
              "       [0.45855907],\n",
              "       [0.40152913],\n",
              "       [0.41547823],\n",
              "       [0.47043362],\n",
              "       [0.46817794],\n",
              "       [0.45036957],\n",
              "       [0.45355815],\n",
              "       [0.41113475],\n",
              "       [0.40693706],\n",
              "       [0.38637602],\n",
              "       [0.39602304],\n",
              "       [0.41233087],\n",
              "       [0.45663854],\n",
              "       [0.42195854],\n",
              "       [0.39145115],\n",
              "       [0.45302266],\n",
              "       [0.39876568],\n",
              "       [0.36943698],\n",
              "       [0.39965662],\n",
              "       [0.38496226],\n",
              "       [0.4467572 ],\n",
              "       [0.46520892],\n",
              "       [0.5024133 ],\n",
              "       [0.40229204],\n",
              "       [0.44597882],\n",
              "       [0.43627554],\n",
              "       [0.40849364],\n",
              "       [0.45138693],\n",
              "       [0.48635006],\n",
              "       [0.4383617 ],\n",
              "       [0.38261026],\n",
              "       [0.41994697],\n",
              "       [0.3987692 ],\n",
              "       [0.46689188],\n",
              "       [0.4412138 ],\n",
              "       [0.41530013],\n",
              "       [0.44929668],\n",
              "       [0.3826103 ],\n",
              "       [0.45395023],\n",
              "       [0.3950019 ],\n",
              "       [0.264802  ],\n",
              "       [0.4907455 ],\n",
              "       [0.4232725 ],\n",
              "       [0.45316386],\n",
              "       [0.4467572 ],\n",
              "       [0.41401166],\n",
              "       [0.44865167],\n",
              "       [0.4676615 ],\n",
              "       [0.4747643 ],\n",
              "       [0.44746438],\n",
              "       [0.4587778 ],\n",
              "       [0.47279355],\n",
              "       [0.4842407 ],\n",
              "       [0.45488054],\n",
              "       [0.40364498],\n",
              "       [0.3960547 ],\n",
              "       [0.38639292],\n",
              "       [0.4160946 ],\n",
              "       [0.115394  ],\n",
              "       [0.44241667],\n",
              "       [0.4676615 ],\n",
              "       [0.39883405],\n",
              "       [0.43681055],\n",
              "       [0.34454474],\n",
              "       [0.37031266],\n",
              "       [0.4491089 ],\n",
              "       [0.47457764],\n",
              "       [0.4158425 ],\n",
              "       [0.413205  ],\n",
              "       [0.4675691 ],\n",
              "       [0.4539442 ],\n",
              "       [0.43017212],\n",
              "       [0.47902602],\n",
              "       [0.46834785],\n",
              "       [0.37208706],\n",
              "       [0.4512559 ],\n",
              "       [0.45318922],\n",
              "       [0.34502047],\n",
              "       [0.38639292],\n",
              "       [0.38823783],\n",
              "       [0.44230798],\n",
              "       [0.41948017],\n",
              "       [0.44304913],\n",
              "       [0.48534134],\n",
              "       [0.4014539 ],\n",
              "       [0.4177392 ],\n",
              "       [0.39053357],\n",
              "       [0.36174864],\n",
              "       [0.47317085],\n",
              "       [0.53166527],\n",
              "       [0.44495672],\n",
              "       [0.42720625],\n",
              "       [0.3609857 ],\n",
              "       [0.4714816 ],\n",
              "       [0.38912588],\n",
              "       [0.45302713],\n",
              "       [0.40325385],\n",
              "       [0.38593298],\n",
              "       [0.5080925 ],\n",
              "       [0.40198523],\n",
              "       [0.4765018 ],\n",
              "       [0.4736004 ],\n",
              "       [0.39584816],\n",
              "       [0.4199379 ],\n",
              "       [0.41174316],\n",
              "       [0.43415248],\n",
              "       [0.41547662],\n",
              "       [0.45339698],\n",
              "       [0.41547823],\n",
              "       [0.452754  ],\n",
              "       [0.4435982 ],\n",
              "       [0.39607248],\n",
              "       [0.4620544 ],\n",
              "       [0.3921442 ],\n",
              "       [0.39607248],\n",
              "       [0.38531253]], dtype=float32)"
            ]
          },
          "metadata": {
            "tags": []
          },
          "execution_count": 106
        }
      ]
    },
    {
      "cell_type": "code",
      "metadata": {
        "id": "Lvsop6PpQX0j"
      },
      "source": [
        "prediction = []\n",
        "\n",
        "for i in predictions:\n",
        "  if i>0.5:\n",
        "    prediction.append(1)\n",
        "  else:\n",
        "    prediction.append(0)"
      ],
      "execution_count": null,
      "outputs": []
    },
    {
      "cell_type": "code",
      "metadata": {
        "colab": {
          "base_uri": "https://localhost:8080/"
        },
        "id": "FMDpAF8Oac2g",
        "outputId": "6611c73a-121d-4ff5-bbeb-9ab5b1ffa291"
      },
      "source": [
        "prediction.count(0)"
      ],
      "execution_count": null,
      "outputs": [
        {
          "output_type": "execute_result",
          "data": {
            "text/plain": [
              "409"
            ]
          },
          "metadata": {
            "tags": []
          },
          "execution_count": 108
        }
      ]
    },
    {
      "cell_type": "code",
      "metadata": {
        "id": "AwidGwAwaeYs"
      },
      "source": [
        "pred = {'PassengerId': p_test_prediction,'Survived': prediction}"
      ],
      "execution_count": null,
      "outputs": []
    },
    {
      "cell_type": "code",
      "metadata": {
        "id": "Fmi4ttL_bfAf"
      },
      "source": [
        "d = pd.DataFrame(pred)"
      ],
      "execution_count": null,
      "outputs": []
    },
    {
      "cell_type": "code",
      "metadata": {
        "id": "l5-1TryobgFg"
      },
      "source": [
        "d.to_csv('preds2.csv',index=False,header=1)"
      ],
      "execution_count": null,
      "outputs": []
    },
    {
      "cell_type": "code",
      "metadata": {
        "colab": {
          "base_uri": "https://localhost:8080/",
          "height": 414
        },
        "id": "OFo4qthXbmec",
        "outputId": "48df6249-97c0-49a6-e701-ceaabeaaa6bd"
      },
      "source": [
        "d"
      ],
      "execution_count": null,
      "outputs": [
        {
          "output_type": "execute_result",
          "data": {
            "text/html": [
              "<div>\n",
              "<style scoped>\n",
              "    .dataframe tbody tr th:only-of-type {\n",
              "        vertical-align: middle;\n",
              "    }\n",
              "\n",
              "    .dataframe tbody tr th {\n",
              "        vertical-align: top;\n",
              "    }\n",
              "\n",
              "    .dataframe thead th {\n",
              "        text-align: right;\n",
              "    }\n",
              "</style>\n",
              "<table border=\"1\" class=\"dataframe\">\n",
              "  <thead>\n",
              "    <tr style=\"text-align: right;\">\n",
              "      <th></th>\n",
              "      <th>PassengerId</th>\n",
              "      <th>Survived</th>\n",
              "    </tr>\n",
              "  </thead>\n",
              "  <tbody>\n",
              "    <tr>\n",
              "      <th>0</th>\n",
              "      <td>892</td>\n",
              "      <td>0</td>\n",
              "    </tr>\n",
              "    <tr>\n",
              "      <th>1</th>\n",
              "      <td>893</td>\n",
              "      <td>0</td>\n",
              "    </tr>\n",
              "    <tr>\n",
              "      <th>2</th>\n",
              "      <td>894</td>\n",
              "      <td>0</td>\n",
              "    </tr>\n",
              "    <tr>\n",
              "      <th>3</th>\n",
              "      <td>895</td>\n",
              "      <td>0</td>\n",
              "    </tr>\n",
              "    <tr>\n",
              "      <th>4</th>\n",
              "      <td>896</td>\n",
              "      <td>0</td>\n",
              "    </tr>\n",
              "    <tr>\n",
              "      <th>...</th>\n",
              "      <td>...</td>\n",
              "      <td>...</td>\n",
              "    </tr>\n",
              "    <tr>\n",
              "      <th>413</th>\n",
              "      <td>1305</td>\n",
              "      <td>0</td>\n",
              "    </tr>\n",
              "    <tr>\n",
              "      <th>414</th>\n",
              "      <td>1306</td>\n",
              "      <td>0</td>\n",
              "    </tr>\n",
              "    <tr>\n",
              "      <th>415</th>\n",
              "      <td>1307</td>\n",
              "      <td>0</td>\n",
              "    </tr>\n",
              "    <tr>\n",
              "      <th>416</th>\n",
              "      <td>1308</td>\n",
              "      <td>0</td>\n",
              "    </tr>\n",
              "    <tr>\n",
              "      <th>417</th>\n",
              "      <td>1309</td>\n",
              "      <td>0</td>\n",
              "    </tr>\n",
              "  </tbody>\n",
              "</table>\n",
              "<p>418 rows × 2 columns</p>\n",
              "</div>"
            ],
            "text/plain": [
              "     PassengerId  Survived\n",
              "0            892         0\n",
              "1            893         0\n",
              "2            894         0\n",
              "3            895         0\n",
              "4            896         0\n",
              "..           ...       ...\n",
              "413         1305         0\n",
              "414         1306         0\n",
              "415         1307         0\n",
              "416         1308         0\n",
              "417         1309         0\n",
              "\n",
              "[418 rows x 2 columns]"
            ]
          },
          "metadata": {
            "tags": []
          },
          "execution_count": 112
        }
      ]
    },
    {
      "cell_type": "code",
      "metadata": {
        "colab": {
          "base_uri": "https://localhost:8080/",
          "height": 35
        },
        "id": "Ky20Z7oUcI63",
        "outputId": "51063352-d654-4772-8221-060e6de5f632"
      },
      "source": [
        ""
      ],
      "execution_count": null,
      "outputs": [
        {
          "output_type": "execute_result",
          "data": {
            "application/vnd.google.colaboratory.intrinsic+json": {
              "type": "string"
            },
            "text/plain": [
              "'/content/Titanic'"
            ]
          },
          "metadata": {
            "tags": []
          },
          "execution_count": 774
        }
      ]
    },
    {
      "cell_type": "code",
      "metadata": {
        "id": "6wHXL7KucJ_q"
      },
      "source": [
        ""
      ],
      "execution_count": null,
      "outputs": []
    }
  ]
}